{
 "cells": [
  {
   "cell_type": "code",
   "execution_count": 2,
   "id": "f2669416-0c32-4279-9234-9b09d187f64f",
   "metadata": {
    "tags": []
   },
   "outputs": [],
   "source": [
    "import pandas as pd\n",
    "import numpy as np"
   ]
  },
  {
   "cell_type": "code",
   "execution_count": 25,
   "id": "50fe4a05-fb53-411b-826e-809db0aab7e8",
   "metadata": {
    "tags": []
   },
   "outputs": [],
   "source": [
    "Kreis_id=[1,2,3,4,5,6,7,8,9,10,11,12]\n",
    "\n",
    "## Area in km^2\n",
    "Kreis_area=[1.80, 11.07, 8.65, 2.90, 1.99, 5.10, 15.02, 4.81, 12.07, 9.09, 13.42, 5.97]\n",
    "\n",
    "Kreis_pop_2021=[5817, 36025, 50104, 29023, 15804, 35355, 38663, 17818, 57077, 41017, 76975, 32654]\n",
    "\n",
    "## Density in population/km^2\n",
    "Kreis_density=[3232, 3254, 5792, 10008, 7942, 6932, 2574, 3704, 4729, 4512, 5736, 5470]\n",
    "\n",
    "Kreis_info=pd.DataFrame(list(zip(Kreis_id, Kreis_area, Kreis_pop_2021,Kreis_density)),\n",
    "               columns =['Kreis_id', 'Kreis Area (km^2)', 'Kreis Population', 'Kreis Density (population/km^2)'])"
   ]
  },
  {
   "cell_type": "code",
   "execution_count": 26,
   "id": "0dbbd388-7430-4ab4-9f0c-ffdd26e5a906",
   "metadata": {
    "tags": []
   },
   "outputs": [
    {
     "data": {
      "text/html": [
       "<div>\n",
       "<style scoped>\n",
       "    .dataframe tbody tr th:only-of-type {\n",
       "        vertical-align: middle;\n",
       "    }\n",
       "\n",
       "    .dataframe tbody tr th {\n",
       "        vertical-align: top;\n",
       "    }\n",
       "\n",
       "    .dataframe thead th {\n",
       "        text-align: right;\n",
       "    }\n",
       "</style>\n",
       "<table border=\"1\" class=\"dataframe\">\n",
       "  <thead>\n",
       "    <tr style=\"text-align: right;\">\n",
       "      <th></th>\n",
       "      <th>Kreis_id</th>\n",
       "      <th>Kreis Area (km^2)</th>\n",
       "      <th>Kreis Population</th>\n",
       "      <th>Kreis Density (population/km^2)</th>\n",
       "    </tr>\n",
       "  </thead>\n",
       "  <tbody>\n",
       "    <tr>\n",
       "      <th>0</th>\n",
       "      <td>1</td>\n",
       "      <td>1.80</td>\n",
       "      <td>5817</td>\n",
       "      <td>3232</td>\n",
       "    </tr>\n",
       "    <tr>\n",
       "      <th>1</th>\n",
       "      <td>2</td>\n",
       "      <td>11.07</td>\n",
       "      <td>36025</td>\n",
       "      <td>3254</td>\n",
       "    </tr>\n",
       "    <tr>\n",
       "      <th>2</th>\n",
       "      <td>3</td>\n",
       "      <td>8.65</td>\n",
       "      <td>50104</td>\n",
       "      <td>5792</td>\n",
       "    </tr>\n",
       "    <tr>\n",
       "      <th>3</th>\n",
       "      <td>4</td>\n",
       "      <td>2.90</td>\n",
       "      <td>29023</td>\n",
       "      <td>10008</td>\n",
       "    </tr>\n",
       "    <tr>\n",
       "      <th>4</th>\n",
       "      <td>5</td>\n",
       "      <td>1.99</td>\n",
       "      <td>15804</td>\n",
       "      <td>7942</td>\n",
       "    </tr>\n",
       "    <tr>\n",
       "      <th>5</th>\n",
       "      <td>6</td>\n",
       "      <td>5.10</td>\n",
       "      <td>35355</td>\n",
       "      <td>6932</td>\n",
       "    </tr>\n",
       "    <tr>\n",
       "      <th>6</th>\n",
       "      <td>7</td>\n",
       "      <td>15.02</td>\n",
       "      <td>38663</td>\n",
       "      <td>2574</td>\n",
       "    </tr>\n",
       "    <tr>\n",
       "      <th>7</th>\n",
       "      <td>8</td>\n",
       "      <td>4.81</td>\n",
       "      <td>17818</td>\n",
       "      <td>3704</td>\n",
       "    </tr>\n",
       "    <tr>\n",
       "      <th>8</th>\n",
       "      <td>9</td>\n",
       "      <td>12.07</td>\n",
       "      <td>57077</td>\n",
       "      <td>4729</td>\n",
       "    </tr>\n",
       "    <tr>\n",
       "      <th>9</th>\n",
       "      <td>10</td>\n",
       "      <td>9.09</td>\n",
       "      <td>41017</td>\n",
       "      <td>4512</td>\n",
       "    </tr>\n",
       "    <tr>\n",
       "      <th>10</th>\n",
       "      <td>11</td>\n",
       "      <td>13.42</td>\n",
       "      <td>76975</td>\n",
       "      <td>5736</td>\n",
       "    </tr>\n",
       "    <tr>\n",
       "      <th>11</th>\n",
       "      <td>12</td>\n",
       "      <td>5.97</td>\n",
       "      <td>32654</td>\n",
       "      <td>5470</td>\n",
       "    </tr>\n",
       "  </tbody>\n",
       "</table>\n",
       "</div>"
      ],
      "text/plain": [
       "    Kreis_id  Kreis Area (km^2)  Kreis Population  \\\n",
       "0          1               1.80              5817   \n",
       "1          2              11.07             36025   \n",
       "2          3               8.65             50104   \n",
       "3          4               2.90             29023   \n",
       "4          5               1.99             15804   \n",
       "5          6               5.10             35355   \n",
       "6          7              15.02             38663   \n",
       "7          8               4.81             17818   \n",
       "8          9              12.07             57077   \n",
       "9         10               9.09             41017   \n",
       "10        11              13.42             76975   \n",
       "11        12               5.97             32654   \n",
       "\n",
       "    Kreis Density (population/km^2)  \n",
       "0                              3232  \n",
       "1                              3254  \n",
       "2                              5792  \n",
       "3                             10008  \n",
       "4                              7942  \n",
       "5                              6932  \n",
       "6                              2574  \n",
       "7                              3704  \n",
       "8                              4729  \n",
       "9                              4512  \n",
       "10                             5736  \n",
       "11                             5470  "
      ]
     },
     "execution_count": 26,
     "metadata": {},
     "output_type": "execute_result"
    }
   ],
   "source": [
    "Kreis_info"
   ]
  },
  {
   "cell_type": "code",
   "execution_count": 27,
   "id": "ec583b67-9813-463b-97b1-d557f096355c",
   "metadata": {
    "tags": []
   },
   "outputs": [],
   "source": [
    "Kreis_info.to_csv(\"Krei_info\", sep=',', index=False, encoding='utf-8')"
   ]
  },
  {
   "cell_type": "markdown",
   "id": "ae93c8e2-79ab-4e1e-908e-e12c03351b81",
   "metadata": {},
   "source": [
    "### \n",
    "Four KPIs:\n",
    "\n",
    "a_1: Number of Migros stores in a Kreis/Total number of supermakts (the lower, the chance of the kreis higher)\n",
    "\n",
    "a_2: Current population density in the Kreis / population density of Zurich (the higher, the chance of the kreis higher)\n",
    "\n",
    "a_3: Average income in the Kreis / Current average income in Zurich (the higher, the chance of the kreis higher)\n",
    "\n",
    "a_4: Future prediction of population density change / population density of Zurich (the higher, the chance of the kreis higher)\n",
    "\n",
    "To open a new store in a Kreis, we can propose a linear combination model with weights for each KPI. (An average shopper gets groceries 1.6 times per week)\n",
    "\n",
    "Relevance_factor = a_1*w_1 + a_2*w_2 + a_3*w_3 + a_4*w_4\n",
    "\n",
    "We compute this relevance factor for each kreis and see which one gets a higher relevance factor."
   ]
  },
  {
   "cell_type": "code",
   "execution_count": 152,
   "id": "a5480658-e39b-4ef5-af3c-d963b59a09bf",
   "metadata": {
    "tags": []
   },
   "outputs": [],
   "source": [
    "Aldi_store_per_kreis=[2, 2, 0, 0, 1, 0, 1, 0, 2, 0, 3, 1]\n",
    "Lidl_store_per_kreis=[1, 0, 1, 0, 1, 0, 0, 0, 0, 0, 3, 1]\n",
    "Coop_store_per_kreis=[6, 5, 6, 4, 5, 3, 3, 4, 9, 6, 8, 3]\n",
    "Migros_store_per_kreis=[4, 4, 3, 3, 3, 2, 3, 2, 3, 2, 3, 1]\n",
    "\n",
    "Total_store_num=[x_1 + x_2 + x_3 + x_4 for x_1, x_2, x_3, x_4 in zip(Aldi_store_per_kreis, Lidl_store_per_kreis,Coop_store_per_kreis,Migros_store_per_kreis)]"
   ]
  },
  {
   "cell_type": "code",
   "execution_count": 265,
   "id": "42479dd1-2ef0-411d-9aaa-8928bd4a65ef",
   "metadata": {
    "tags": []
   },
   "outputs": [],
   "source": [
    "# KPI 1: a_1: number of migros stores/total number of stores in a kreis\n",
    "\n",
    "a_1=[y_1/ y_2 for y_1, y_2 in zip(Migros_store_per_kreis,Total_store_num)]"
   ]
  },
  {
   "cell_type": "code",
   "execution_count": 266,
   "id": "612ae06f-e7c6-48bd-abb6-4b5fc628f7cf",
   "metadata": {
    "tags": []
   },
   "outputs": [],
   "source": [
    "# KPI 2: a_2: Current population denisty\n",
    "\n",
    "a_2=[0.675171,0.694047,1.212819,2.122174,1.655881,1.458411,0.542626,0.768098,1.005600,0.947106,1.205974,1.144783]"
   ]
  },
  {
   "cell_type": "code",
   "execution_count": 267,
   "id": "02b96fc1-08e0-4c70-8857-c32d3e56c03e",
   "metadata": {
    "tags": []
   },
   "outputs": [],
   "source": [
    "# KPI 3: a_3: Avergae income in a kreis (KCHF)\n",
    "den_1 = pd.read_csv(\"../data/processed/average_income_per_kreis_sorted.csv\")\n",
    "\n",
    "mean_income=den_1['Median value of taxable income'].mean()\n",
    "income_per_kreis=[76.38, 68.53, 58.32, 52.2, 71.07, 74.13, 89.27, 88.97, 57.0, 67.68, 55.3, 44.67]\n",
    "\n",
    "a_3 = [i /mean_income for i in income_per_kreis]"
   ]
  },
  {
   "cell_type": "code",
   "execution_count": 268,
   "id": "4c905181-2cd5-403d-9f6f-60f8c24b6296",
   "metadata": {
    "tags": []
   },
   "outputs": [],
   "source": [
    "# KPI 4: a_4: future population denisty 2040\n",
    "\n",
    "future_pop_density=[0.589022, 0.693816,1.206202,1.966494,1.746213,1.396008,0.527892,0.728034,1.000356,0.897879,1.262164,1.307432]\n",
    "\n",
    "a_4 = [z_1- z_2 for z_1, z_2 in zip(future_pop_density,a_2)]\n",
    "a_4_percentage= [i *100 for i in a_4]"
   ]
  },
  {
   "cell_type": "code",
   "execution_count": 272,
   "id": "1324fd7b-95bf-464d-ab6b-39ff7a81d57d",
   "metadata": {
    "tags": []
   },
   "outputs": [
    {
     "name": "stdin",
     "output_type": "stream",
     "text": [
      "Select a weight for 1st KPI?\n",
      " 2\n",
      "Select a weight for 2nd KPI?\n",
      " .5\n",
      "Select a weight for 3rd KPI?\n",
      " 1\n",
      "Select a weight for 4th KPI?\n",
      " 3\n"
     ]
    }
   ],
   "source": [
    "w_1 = input('Select a weight for 1st KPI?\\n')\n",
    "w_2 = input('Select a weight for 2nd KPI?\\n')\n",
    "w_3 = input('Select a weight for 3rd KPI?\\n')\n",
    "w_4 = input('Select a weight for 4th KPI?\\n')\n",
    "weight_fac=[float(w_1),float(w_2),float(w_3),float(w_4)]\n",
    "\n",
    "Rel_fac_a_1=[i * weight_fac[0] for i in a_1]\n",
    "Rel_fac_a_2=[i * weight_fac[1] for i in a_2]\n",
    "Rel_fac_a_3=[i * weight_fac[2] for i in a_3]\n",
    "Rel_fac_a_4=[i * weight_fac[3] for i in a_4]\n",
    "\n",
    "\n",
    "Total_rel_fac=[x_1 + x_2 + x_3 + x_4 for x_1, x_2, x_3, x_4 in zip(Rel_fac_a_1,Rel_fac_a_2,Rel_fac_a_3,Rel_fac_a_4)]\n",
    "\n",
    "\n",
    "Kreis_recommendation=pd.DataFrame(list(zip(Kreis_id, Total_rel_fac, a_1, a_2, a_3, a_4_percentage)), \n",
    "               columns =['Kreis #', 'Relevance Factor', 'Migros Market Share', 'Population Density', 'Normalized AVG Income','Population Change by 2040 %'])\n"
   ]
  },
  {
   "cell_type": "code",
   "execution_count": 273,
   "id": "5ae275ee-7733-4215-a9fe-09dd525ee25e",
   "metadata": {
    "tags": []
   },
   "outputs": [
    {
     "data": {
      "text/html": [
       "<div>\n",
       "<style scoped>\n",
       "    .dataframe tbody tr th:only-of-type {\n",
       "        vertical-align: middle;\n",
       "    }\n",
       "\n",
       "    .dataframe tbody tr th {\n",
       "        vertical-align: top;\n",
       "    }\n",
       "\n",
       "    .dataframe thead th {\n",
       "        text-align: right;\n",
       "    }\n",
       "</style>\n",
       "<table border=\"1\" class=\"dataframe\">\n",
       "  <thead>\n",
       "    <tr style=\"text-align: right;\">\n",
       "      <th></th>\n",
       "      <th>Relevance Factor</th>\n",
       "      <th>Migros Market Share</th>\n",
       "      <th>Population Density</th>\n",
       "      <th>Normalized AVG Income</th>\n",
       "      <th>Population Change by 2040 %</th>\n",
       "    </tr>\n",
       "    <tr>\n",
       "      <th>Kreis #</th>\n",
       "      <th></th>\n",
       "      <th></th>\n",
       "      <th></th>\n",
       "      <th></th>\n",
       "      <th></th>\n",
       "    </tr>\n",
       "  </thead>\n",
       "  <tbody>\n",
       "    <tr>\n",
       "      <th>1</th>\n",
       "      <td>1.835204</td>\n",
       "      <td>0.307692</td>\n",
       "      <td>0.675171</td>\n",
       "      <td>1.140681</td>\n",
       "      <td>-8.6149</td>\n",
       "    </tr>\n",
       "    <tr>\n",
       "      <th>2</th>\n",
       "      <td>2.097050</td>\n",
       "      <td>0.363636</td>\n",
       "      <td>0.694047</td>\n",
       "      <td>1.023447</td>\n",
       "      <td>-0.0231</td>\n",
       "    </tr>\n",
       "    <tr>\n",
       "      <th>3</th>\n",
       "      <td>2.057526</td>\n",
       "      <td>0.300000</td>\n",
       "      <td>1.212819</td>\n",
       "      <td>0.870968</td>\n",
       "      <td>-0.6617</td>\n",
       "    </tr>\n",
       "    <tr>\n",
       "      <th>4</th>\n",
       "      <td>2.230760</td>\n",
       "      <td>0.428571</td>\n",
       "      <td>2.122174</td>\n",
       "      <td>0.779570</td>\n",
       "      <td>-15.5680</td>\n",
       "    </tr>\n",
       "    <tr>\n",
       "      <th>5</th>\n",
       "      <td>2.760316</td>\n",
       "      <td>0.300000</td>\n",
       "      <td>1.655881</td>\n",
       "      <td>1.061380</td>\n",
       "      <td>9.0332</td>\n",
       "    </tr>\n",
       "    <tr>\n",
       "      <th>6</th>\n",
       "      <td>2.449075</td>\n",
       "      <td>0.400000</td>\n",
       "      <td>1.458411</td>\n",
       "      <td>1.107079</td>\n",
       "      <td>-6.2403</td>\n",
       "    </tr>\n",
       "    <tr>\n",
       "      <th>7</th>\n",
       "      <td>2.417438</td>\n",
       "      <td>0.428571</td>\n",
       "      <td>0.542626</td>\n",
       "      <td>1.333184</td>\n",
       "      <td>-1.4734</td>\n",
       "    </tr>\n",
       "    <tr>\n",
       "      <th>8</th>\n",
       "      <td>2.259227</td>\n",
       "      <td>0.333333</td>\n",
       "      <td>0.768098</td>\n",
       "      <td>1.328704</td>\n",
       "      <td>-4.0064</td>\n",
       "    </tr>\n",
       "    <tr>\n",
       "      <th>9</th>\n",
       "      <td>1.766894</td>\n",
       "      <td>0.214286</td>\n",
       "      <td>1.005600</td>\n",
       "      <td>0.851254</td>\n",
       "      <td>-0.5244</td>\n",
       "    </tr>\n",
       "    <tr>\n",
       "      <th>10</th>\n",
       "      <td>1.836625</td>\n",
       "      <td>0.250000</td>\n",
       "      <td>0.947106</td>\n",
       "      <td>1.010753</td>\n",
       "      <td>-4.9227</td>\n",
       "    </tr>\n",
       "    <tr>\n",
       "      <th>11</th>\n",
       "      <td>1.950364</td>\n",
       "      <td>0.176471</td>\n",
       "      <td>1.205974</td>\n",
       "      <td>0.825866</td>\n",
       "      <td>5.6190</td>\n",
       "    </tr>\n",
       "    <tr>\n",
       "      <th>12</th>\n",
       "      <td>2.060787</td>\n",
       "      <td>0.166667</td>\n",
       "      <td>1.144783</td>\n",
       "      <td>0.667115</td>\n",
       "      <td>16.2649</td>\n",
       "    </tr>\n",
       "  </tbody>\n",
       "</table>\n",
       "</div>"
      ],
      "text/plain": [
       "         Relevance Factor  Migros Market Share  Population Density  \\\n",
       "Kreis #                                                              \n",
       "1                1.835204             0.307692            0.675171   \n",
       "2                2.097050             0.363636            0.694047   \n",
       "3                2.057526             0.300000            1.212819   \n",
       "4                2.230760             0.428571            2.122174   \n",
       "5                2.760316             0.300000            1.655881   \n",
       "6                2.449075             0.400000            1.458411   \n",
       "7                2.417438             0.428571            0.542626   \n",
       "8                2.259227             0.333333            0.768098   \n",
       "9                1.766894             0.214286            1.005600   \n",
       "10               1.836625             0.250000            0.947106   \n",
       "11               1.950364             0.176471            1.205974   \n",
       "12               2.060787             0.166667            1.144783   \n",
       "\n",
       "         Normalized AVG Income  Population Change by 2040 %  \n",
       "Kreis #                                                      \n",
       "1                     1.140681                      -8.6149  \n",
       "2                     1.023447                      -0.0231  \n",
       "3                     0.870968                      -0.6617  \n",
       "4                     0.779570                     -15.5680  \n",
       "5                     1.061380                       9.0332  \n",
       "6                     1.107079                      -6.2403  \n",
       "7                     1.333184                      -1.4734  \n",
       "8                     1.328704                      -4.0064  \n",
       "9                     0.851254                      -0.5244  \n",
       "10                    1.010753                      -4.9227  \n",
       "11                    0.825866                       5.6190  \n",
       "12                    0.667115                      16.2649  "
      ]
     },
     "execution_count": 273,
     "metadata": {},
     "output_type": "execute_result"
    }
   ],
   "source": [
    "Kreis_recommendation.set_index(['Kreis #'])"
   ]
  },
  {
   "cell_type": "code",
   "execution_count": 274,
   "id": "a64951be-34d6-4b22-b66a-9d29abefcf73",
   "metadata": {
    "tags": []
   },
   "outputs": [
    {
     "name": "stdout",
     "output_type": "stream",
     "text": [
      "Based on the given weights, the recommendation is to consider openning a new Migros store in Kreis 5.\n"
     ]
    }
   ],
   "source": [
    "max_factor=Kreis_recommendation['Relevance Factor'].max()\n",
    "df2=Kreis_recommendation.loc[Kreis_recommendation['Relevance Factor'] == max_factor]\n",
    "recom_kreis=df2.values.tolist()[0][0]\n",
    "\n",
    "print(f\"Based on the given weights, the recommendation is to consider openning a new Migros store in Kreis {int(recom_kreis)}.\")"
   ]
  },
  {
   "cell_type": "code",
   "execution_count": null,
   "id": "3d1737ef-1235-4d71-8784-7420aaab6c1c",
   "metadata": {},
   "outputs": [],
   "source": []
  }
 ],
 "metadata": {
  "kernelspec": {
   "display_name": "Python 3 (ipykernel)",
   "language": "python",
   "name": "python3"
  },
  "language_info": {
   "codemirror_mode": {
    "name": "ipython",
    "version": 3
   },
   "file_extension": ".py",
   "mimetype": "text/x-python",
   "name": "python",
   "nbconvert_exporter": "python",
   "pygments_lexer": "ipython3",
   "version": "3.11.5"
  }
 },
 "nbformat": 4,
 "nbformat_minor": 5
}
