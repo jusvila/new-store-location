{
 "cells": [
  {
   "cell_type": "code",
   "execution_count": 2,
   "id": "f2669416-0c32-4279-9234-9b09d187f64f",
   "metadata": {
    "tags": []
   },
   "outputs": [],
   "source": [
    "import pandas as pd\n",
    "import numpy as np"
   ]
  },
  {
   "cell_type": "code",
   "execution_count": 20,
   "id": "50fe4a05-fb53-411b-826e-809db0aab7e8",
   "metadata": {
    "tags": []
   },
   "outputs": [],
   "source": [
    "Kreis_id=[1,2,3,4,5,6,7,8,9,10,11,12]\n",
    "\n",
    "## Area in km^2\n",
    "Kreis_area=[1.80, 11.07, 8.65, 2.90, 1.99, 5.10, 15.02, 4.81, 12.07, 9.09, 13.42, 5.97]\n",
    "\n",
    "Kreis_pop_2021=[5817, 36025, 50104, 29023, 15804, 35355, 38663, 17818, 57077, 41017, 76975, 32654]\n",
    "\n",
    "## Density in population/km^2\n",
    "Kreis_density=[3232, 3254, 5792, 10008, 7942, 6932, 2574, 3704, 4729, 4512, 5736, 5470]\n",
    "\n",
    "Kreis_info=pd.DataFrame(list(zip(Kreis_id, Kreis_area, Kreis_pop_2021,Kreis_density)),\n",
    "               columns =['Kreis_id', 'Kreis Area (km^2)', 'Kreis Population', 'Kreis Density (population/km^2)'])"
   ]
  },
  {
   "cell_type": "code",
   "execution_count": 21,
   "id": "0dbbd388-7430-4ab4-9f0c-ffdd26e5a906",
   "metadata": {
    "tags": []
   },
   "outputs": [
    {
     "data": {
      "text/html": [
       "<div>\n",
       "<style scoped>\n",
       "    .dataframe tbody tr th:only-of-type {\n",
       "        vertical-align: middle;\n",
       "    }\n",
       "\n",
       "    .dataframe tbody tr th {\n",
       "        vertical-align: top;\n",
       "    }\n",
       "\n",
       "    .dataframe thead th {\n",
       "        text-align: right;\n",
       "    }\n",
       "</style>\n",
       "<table border=\"1\" class=\"dataframe\">\n",
       "  <thead>\n",
       "    <tr style=\"text-align: right;\">\n",
       "      <th></th>\n",
       "      <th>Kreis_id</th>\n",
       "      <th>Kreis Area (km^2)</th>\n",
       "      <th>Kreis Pupolation</th>\n",
       "      <th>Kreis Density (pupulation/km^2)</th>\n",
       "    </tr>\n",
       "  </thead>\n",
       "  <tbody>\n",
       "    <tr>\n",
       "      <th>0</th>\n",
       "      <td>1</td>\n",
       "      <td>1.80</td>\n",
       "      <td>5817</td>\n",
       "      <td>3232</td>\n",
       "    </tr>\n",
       "    <tr>\n",
       "      <th>1</th>\n",
       "      <td>2</td>\n",
       "      <td>11.07</td>\n",
       "      <td>36025</td>\n",
       "      <td>3254</td>\n",
       "    </tr>\n",
       "    <tr>\n",
       "      <th>2</th>\n",
       "      <td>3</td>\n",
       "      <td>8.65</td>\n",
       "      <td>50104</td>\n",
       "      <td>5792</td>\n",
       "    </tr>\n",
       "    <tr>\n",
       "      <th>3</th>\n",
       "      <td>4</td>\n",
       "      <td>2.90</td>\n",
       "      <td>29023</td>\n",
       "      <td>10008</td>\n",
       "    </tr>\n",
       "    <tr>\n",
       "      <th>4</th>\n",
       "      <td>5</td>\n",
       "      <td>1.99</td>\n",
       "      <td>15804</td>\n",
       "      <td>7942</td>\n",
       "    </tr>\n",
       "    <tr>\n",
       "      <th>5</th>\n",
       "      <td>6</td>\n",
       "      <td>5.10</td>\n",
       "      <td>35355</td>\n",
       "      <td>6932</td>\n",
       "    </tr>\n",
       "    <tr>\n",
       "      <th>6</th>\n",
       "      <td>7</td>\n",
       "      <td>15.02</td>\n",
       "      <td>38663</td>\n",
       "      <td>2574</td>\n",
       "    </tr>\n",
       "    <tr>\n",
       "      <th>7</th>\n",
       "      <td>8</td>\n",
       "      <td>4.81</td>\n",
       "      <td>17818</td>\n",
       "      <td>3704</td>\n",
       "    </tr>\n",
       "    <tr>\n",
       "      <th>8</th>\n",
       "      <td>9</td>\n",
       "      <td>12.07</td>\n",
       "      <td>57077</td>\n",
       "      <td>4729</td>\n",
       "    </tr>\n",
       "    <tr>\n",
       "      <th>9</th>\n",
       "      <td>10</td>\n",
       "      <td>9.09</td>\n",
       "      <td>41017</td>\n",
       "      <td>4512</td>\n",
       "    </tr>\n",
       "    <tr>\n",
       "      <th>10</th>\n",
       "      <td>11</td>\n",
       "      <td>13.42</td>\n",
       "      <td>76975</td>\n",
       "      <td>5736</td>\n",
       "    </tr>\n",
       "    <tr>\n",
       "      <th>11</th>\n",
       "      <td>12</td>\n",
       "      <td>5.97</td>\n",
       "      <td>32654</td>\n",
       "      <td>5470</td>\n",
       "    </tr>\n",
       "  </tbody>\n",
       "</table>\n",
       "</div>"
      ],
      "text/plain": [
       "    Kreis_id  Kreis Area (km^2)  Kreis Pupolation  \\\n",
       "0          1               1.80              5817   \n",
       "1          2              11.07             36025   \n",
       "2          3               8.65             50104   \n",
       "3          4               2.90             29023   \n",
       "4          5               1.99             15804   \n",
       "5          6               5.10             35355   \n",
       "6          7              15.02             38663   \n",
       "7          8               4.81             17818   \n",
       "8          9              12.07             57077   \n",
       "9         10               9.09             41017   \n",
       "10        11              13.42             76975   \n",
       "11        12               5.97             32654   \n",
       "\n",
       "    Kreis Density (pupulation/km^2)  \n",
       "0                              3232  \n",
       "1                              3254  \n",
       "2                              5792  \n",
       "3                             10008  \n",
       "4                              7942  \n",
       "5                              6932  \n",
       "6                              2574  \n",
       "7                              3704  \n",
       "8                              4729  \n",
       "9                              4512  \n",
       "10                             5736  \n",
       "11                             5470  "
      ]
     },
     "execution_count": 21,
     "metadata": {},
     "output_type": "execute_result"
    }
   ],
   "source": [
    "Kreis_info"
   ]
  },
  {
   "cell_type": "code",
   "execution_count": 24,
   "id": "ec583b67-9813-463b-97b1-d557f096355c",
   "metadata": {
    "tags": []
   },
   "outputs": [],
   "source": [
    "Kreis_info.to_csv(\"Krei_info\", sep=',', index=False, encoding='utf-8')"
   ]
  },
  {
   "cell_type": "code",
   "execution_count": null,
   "id": "7b6fa179-6649-4907-a3c9-37ebd6eda91b",
   "metadata": {},
   "outputs": [],
   "source": []
  }
 ],
 "metadata": {
  "kernelspec": {
   "display_name": "Python 3 (ipykernel)",
   "language": "python",
   "name": "python3"
  },
  "language_info": {
   "codemirror_mode": {
    "name": "ipython",
    "version": 3
   },
   "file_extension": ".py",
   "mimetype": "text/x-python",
   "name": "python",
   "nbconvert_exporter": "python",
   "pygments_lexer": "ipython3",
   "version": "3.11.5"
  }
 },
 "nbformat": 4,
 "nbformat_minor": 5
}
