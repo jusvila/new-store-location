{
 "cells": [
  {
   "cell_type": "code",
   "execution_count": 35,
   "id": "da187111-928b-4e0a-801a-a52fecfdbf55",
   "metadata": {
    "tags": []
   },
   "outputs": [],
   "source": [
    "from bs4 import BeautifulSoup\n",
    "import requests\n",
    "import pandas as pd\n",
    "import re\n",
    "import numpy as np"
   ]
  },
  {
   "cell_type": "code",
   "execution_count": 54,
   "id": "458784cf-f307-4a67-8492-8645b672e4fc",
   "metadata": {
    "tags": []
   },
   "outputs": [
    {
     "name": "stdout",
     "output_type": "stream",
     "text": [
      "200\n"
     ]
    },
    {
     "data": {
      "text/plain": [
       "bs4.BeautifulSoup"
      ]
     },
     "execution_count": 54,
     "metadata": {},
     "output_type": "execute_result"
    }
   ],
   "source": [
    "page = requests.get(\"https://www.profital.ch/de/flr/81450-migros-filialen/2699\")\n",
    "print(page.status_code) ## prints 200 as status code\n",
    "#print(page.content[:3000]) ## prints the entire webpage content\n",
    "soup_1 = BeautifulSoup(page.content, \"html.parser\")\n",
    "type(soup_1)"
   ]
  },
  {
   "cell_type": "code",
   "execution_count": 76,
   "id": "43628cbc-0410-4d2a-afee-497798450368",
   "metadata": {
    "tags": []
   },
   "outputs": [],
   "source": [
    "soup_1.findAll('address');"
   ]
  },
  {
   "cell_type": "code",
   "execution_count": 56,
   "id": "18b8fb18-947a-4006-8d29-764f29e50432",
   "metadata": {
    "tags": []
   },
   "outputs": [],
   "source": [
    "Loc=[]\n",
    "for pg in range(2,4):\n",
    "    page_2 = requests.get(f\"https://www.profital.ch/de/flr/81450-migros-filialen/2699?page={pg}\")\n",
    "    soup_2 = BeautifulSoup(page_2.content,\"html.parser\")\n",
    "    soup_2.findAll('address')\n",
    "    Loc.append(soup_2.findAll('address'))"
   ]
  },
  {
   "cell_type": "code",
   "execution_count": 59,
   "id": "c498aece-7952-4096-a90a-27525f1eb49c",
   "metadata": {
    "tags": []
   },
   "outputs": [
    {
     "data": {
      "text/plain": [
       "3"
      ]
     },
     "execution_count": 59,
     "metadata": {},
     "output_type": "execute_result"
    }
   ],
   "source": [
    "Loc.append(soup_1.findAll('address'))\n",
    "page_num=len(Loc)"
   ]
  },
  {
   "cell_type": "code",
   "execution_count": 73,
   "id": "2fbf785f-2ab4-44e6-8ea0-64f44ff2495e",
   "metadata": {
    "tags": []
   },
   "outputs": [
    {
     "data": {
      "text/plain": [
       "33"
      ]
     },
     "execution_count": 73,
     "metadata": {},
     "output_type": "execute_result"
    }
   ],
   "source": [
    "Address=[]\n",
    "Zip=[]\n",
    "for i in range(0,page_num):\n",
    "    for j in range(0,len(Loc[i])):\n",
    "        Address.append(Loc[i][j].contents[0].strip())\n",
    "        Zip.append(Loc[i][j].contents[2].strip().split()[0])\n",
    "len(Address)"
   ]
  },
  {
   "cell_type": "code",
   "execution_count": 72,
   "id": "c0430850-7796-44a9-bc0d-a76838125980",
   "metadata": {
    "tags": []
   },
   "outputs": [
    {
     "data": {
      "text/plain": [
       "33"
      ]
     },
     "execution_count": 72,
     "metadata": {},
     "output_type": "execute_result"
    }
   ],
   "source": [
    "len(Zip)"
   ]
  },
  {
   "cell_type": "code",
   "execution_count": 74,
   "id": "c735c910-4708-433e-8e7c-a16ccd26e760",
   "metadata": {
    "tags": []
   },
   "outputs": [],
   "source": [
    "df_Migros_Locator = pd.DataFrame(list(zip(Address,Zip)), columns=[\"Address\", \"Zip Code\"])"
   ]
  },
  {
   "cell_type": "code",
   "execution_count": 75,
   "id": "aefd02da-34b5-4146-8f07-2576dc0eb3f6",
   "metadata": {
    "tags": []
   },
   "outputs": [
    {
     "data": {
      "text/html": [
       "<div>\n",
       "<style scoped>\n",
       "    .dataframe tbody tr th:only-of-type {\n",
       "        vertical-align: middle;\n",
       "    }\n",
       "\n",
       "    .dataframe tbody tr th {\n",
       "        vertical-align: top;\n",
       "    }\n",
       "\n",
       "    .dataframe thead th {\n",
       "        text-align: right;\n",
       "    }\n",
       "</style>\n",
       "<table border=\"1\" class=\"dataframe\">\n",
       "  <thead>\n",
       "    <tr style=\"text-align: right;\">\n",
       "      <th></th>\n",
       "      <th>Address</th>\n",
       "      <th>Zip Code</th>\n",
       "    </tr>\n",
       "  </thead>\n",
       "  <tbody>\n",
       "    <tr>\n",
       "      <th>0</th>\n",
       "      <td>Winterthurerstrasse 2 - 4</td>\n",
       "      <td>8006</td>\n",
       "    </tr>\n",
       "    <tr>\n",
       "      <th>1</th>\n",
       "      <td>Falkenstrasse 19 - 21</td>\n",
       "      <td>8008</td>\n",
       "    </tr>\n",
       "    <tr>\n",
       "      <th>2</th>\n",
       "      <td>Giesshübelstrasse 65</td>\n",
       "      <td>8045</td>\n",
       "    </tr>\n",
       "    <tr>\n",
       "      <th>3</th>\n",
       "      <td>Toblerstrasse 73</td>\n",
       "      <td>8044</td>\n",
       "    </tr>\n",
       "    <tr>\n",
       "      <th>4</th>\n",
       "      <td>Kreuzplatz 20</td>\n",
       "      <td>8008</td>\n",
       "    </tr>\n",
       "    <tr>\n",
       "      <th>5</th>\n",
       "      <td>Seefeldstrasse 111 - 113</td>\n",
       "      <td>8008</td>\n",
       "    </tr>\n",
       "    <tr>\n",
       "      <th>6</th>\n",
       "      <td>Albisriederstrasse 365</td>\n",
       "      <td>8047</td>\n",
       "    </tr>\n",
       "    <tr>\n",
       "      <th>7</th>\n",
       "      <td>Altstetterstrasse 145</td>\n",
       "      <td>8048</td>\n",
       "    </tr>\n",
       "    <tr>\n",
       "      <th>8</th>\n",
       "      <td>Hohlstrasse 600</td>\n",
       "      <td>8048</td>\n",
       "    </tr>\n",
       "    <tr>\n",
       "      <th>9</th>\n",
       "      <td>Regensdorferstrasse 20</td>\n",
       "      <td>8049</td>\n",
       "    </tr>\n",
       "    <tr>\n",
       "      <th>10</th>\n",
       "      <td>Hofwiesenstrasse 350 - 354</td>\n",
       "      <td>8050</td>\n",
       "    </tr>\n",
       "    <tr>\n",
       "      <th>11</th>\n",
       "      <td>Etzelstrasse 3</td>\n",
       "      <td>8038</td>\n",
       "    </tr>\n",
       "    <tr>\n",
       "      <th>12</th>\n",
       "      <td>Forchstrasse 260</td>\n",
       "      <td>8008</td>\n",
       "    </tr>\n",
       "    <tr>\n",
       "      <th>13</th>\n",
       "      <td>Winterthurerstrasse 524</td>\n",
       "      <td>8051</td>\n",
       "    </tr>\n",
       "    <tr>\n",
       "      <th>14</th>\n",
       "      <td>Leimbachstrasse 23</td>\n",
       "      <td>8041</td>\n",
       "    </tr>\n",
       "    <tr>\n",
       "      <th>15</th>\n",
       "      <td>Schaffhauserstrasse 470</td>\n",
       "      <td>8052</td>\n",
       "    </tr>\n",
       "    <tr>\n",
       "      <th>16</th>\n",
       "      <td>Jonas-Furrer-Strasse 21</td>\n",
       "      <td>8046</td>\n",
       "    </tr>\n",
       "    <tr>\n",
       "      <th>17</th>\n",
       "      <td>Witikonerstrasse 293</td>\n",
       "      <td>8053</td>\n",
       "    </tr>\n",
       "    <tr>\n",
       "      <th>18</th>\n",
       "      <td>Wengistrasse 7</td>\n",
       "      <td>8004</td>\n",
       "    </tr>\n",
       "    <tr>\n",
       "      <th>19</th>\n",
       "      <td>Sihlpassage</td>\n",
       "      <td>8004</td>\n",
       "    </tr>\n",
       "    <tr>\n",
       "      <th>20</th>\n",
       "      <td>Zollstrasse 6</td>\n",
       "      <td>8005</td>\n",
       "    </tr>\n",
       "    <tr>\n",
       "      <th>21</th>\n",
       "      <td>Löwenstrasse 31 - 35</td>\n",
       "      <td>8001</td>\n",
       "    </tr>\n",
       "    <tr>\n",
       "      <th>22</th>\n",
       "      <td>Limmatstrasse 152</td>\n",
       "      <td>8005</td>\n",
       "    </tr>\n",
       "    <tr>\n",
       "      <th>23</th>\n",
       "      <td>Hauptbahnhof</td>\n",
       "      <td>8001</td>\n",
       "    </tr>\n",
       "    <tr>\n",
       "      <th>24</th>\n",
       "      <td>Shop Ville</td>\n",
       "      <td>8001</td>\n",
       "    </tr>\n",
       "    <tr>\n",
       "      <th>25</th>\n",
       "      <td>Birmensdorferstrasse 140</td>\n",
       "      <td>8003</td>\n",
       "    </tr>\n",
       "    <tr>\n",
       "      <th>26</th>\n",
       "      <td>Stockerstrasse 47</td>\n",
       "      <td>8002</td>\n",
       "    </tr>\n",
       "    <tr>\n",
       "      <th>27</th>\n",
       "      <td>Badenerstrasse 376</td>\n",
       "      <td>8004</td>\n",
       "    </tr>\n",
       "    <tr>\n",
       "      <th>28</th>\n",
       "      <td>Hardturmstrasse 11</td>\n",
       "      <td>8005</td>\n",
       "    </tr>\n",
       "    <tr>\n",
       "      <th>29</th>\n",
       "      <td>Tessinerplatz 10</td>\n",
       "      <td>8002</td>\n",
       "    </tr>\n",
       "    <tr>\n",
       "      <th>30</th>\n",
       "      <td>Birmensdorferstrasse 320</td>\n",
       "      <td>8055</td>\n",
       "    </tr>\n",
       "    <tr>\n",
       "      <th>31</th>\n",
       "      <td>Scheffelstrasse 3</td>\n",
       "      <td>8037</td>\n",
       "    </tr>\n",
       "    <tr>\n",
       "      <th>32</th>\n",
       "      <td>Schaffhauserstrasse 75</td>\n",
       "      <td>8057</td>\n",
       "    </tr>\n",
       "  </tbody>\n",
       "</table>\n",
       "</div>"
      ],
      "text/plain": [
       "                       Address Zip Code\n",
       "0    Winterthurerstrasse 2 - 4     8006\n",
       "1        Falkenstrasse 19 - 21     8008\n",
       "2         Giesshübelstrasse 65     8045\n",
       "3             Toblerstrasse 73     8044\n",
       "4                Kreuzplatz 20     8008\n",
       "5     Seefeldstrasse 111 - 113     8008\n",
       "6       Albisriederstrasse 365     8047\n",
       "7        Altstetterstrasse 145     8048\n",
       "8              Hohlstrasse 600     8048\n",
       "9       Regensdorferstrasse 20     8049\n",
       "10  Hofwiesenstrasse 350 - 354     8050\n",
       "11              Etzelstrasse 3     8038\n",
       "12            Forchstrasse 260     8008\n",
       "13     Winterthurerstrasse 524     8051\n",
       "14          Leimbachstrasse 23     8041\n",
       "15     Schaffhauserstrasse 470     8052\n",
       "16     Jonas-Furrer-Strasse 21     8046\n",
       "17        Witikonerstrasse 293     8053\n",
       "18              Wengistrasse 7     8004\n",
       "19                 Sihlpassage     8004\n",
       "20               Zollstrasse 6     8005\n",
       "21        Löwenstrasse 31 - 35     8001\n",
       "22           Limmatstrasse 152     8005\n",
       "23                Hauptbahnhof     8001\n",
       "24                  Shop Ville     8001\n",
       "25    Birmensdorferstrasse 140     8003\n",
       "26           Stockerstrasse 47     8002\n",
       "27          Badenerstrasse 376     8004\n",
       "28          Hardturmstrasse 11     8005\n",
       "29            Tessinerplatz 10     8002\n",
       "30    Birmensdorferstrasse 320     8055\n",
       "31           Scheffelstrasse 3     8037\n",
       "32      Schaffhauserstrasse 75     8057"
      ]
     },
     "execution_count": 75,
     "metadata": {},
     "output_type": "execute_result"
    }
   ],
   "source": [
    "df_Migros_Locator"
   ]
  },
  {
   "cell_type": "code",
   "execution_count": null,
   "id": "f1095e56-1a1d-4817-b450-44664caec5e1",
   "metadata": {},
   "outputs": [],
   "source": []
  }
 ],
 "metadata": {
  "kernelspec": {
   "display_name": "Python 3 (ipykernel)",
   "language": "python",
   "name": "python3"
  },
  "language_info": {
   "codemirror_mode": {
    "name": "ipython",
    "version": 3
   },
   "file_extension": ".py",
   "mimetype": "text/x-python",
   "name": "python",
   "nbconvert_exporter": "python",
   "pygments_lexer": "ipython3",
   "version": "3.11.5"
  }
 },
 "nbformat": 4,
 "nbformat_minor": 5
}
