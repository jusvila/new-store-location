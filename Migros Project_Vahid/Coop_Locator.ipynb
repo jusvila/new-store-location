{
 "cells": [
  {
   "cell_type": "code",
   "execution_count": 2,
   "id": "da187111-928b-4e0a-801a-a52fecfdbf55",
   "metadata": {
    "tags": []
   },
   "outputs": [],
   "source": [
    "from bs4 import BeautifulSoup\n",
    "import requests\n",
    "import pandas as pd\n",
    "import re\n",
    "import numpy as np"
   ]
  },
  {
   "cell_type": "code",
   "execution_count": 5,
   "id": "458784cf-f307-4a67-8492-8645b672e4fc",
   "metadata": {
    "tags": []
   },
   "outputs": [
    {
     "name": "stdout",
     "output_type": "stream",
     "text": [
      "200\n"
     ]
    },
    {
     "data": {
      "text/plain": [
       "bs4.BeautifulSoup"
      ]
     },
     "execution_count": 5,
     "metadata": {},
     "output_type": "execute_result"
    }
   ],
   "source": [
    "page_Coop = requests.get(\"https://www.profital.ch/de/flr/72139-coop-filialen/2699\")\n",
    "print(page_Coop.status_code) ## prints 200 as status code\n",
    "#print(page.content[:3000]) ## prints the entire webpage content\n",
    "soup_Coop = BeautifulSoup(page_Coop.content, \"html.parser\")\n",
    "type(soup_Coop)"
   ]
  },
  {
   "cell_type": "code",
   "execution_count": 6,
   "id": "43628cbc-0410-4d2a-afee-497798450368",
   "metadata": {
    "tags": []
   },
   "outputs": [],
   "source": [
    "soup_Coop.findAll('address');"
   ]
  },
  {
   "cell_type": "code",
   "execution_count": 7,
   "id": "18b8fb18-947a-4006-8d29-764f29e50432",
   "metadata": {
    "tags": []
   },
   "outputs": [],
   "source": [
    "Loc_Coop=[]\n",
    "for pg in range(2,6):\n",
    "    page_Coop_2 = requests.get(f\"https://www.profital.ch/de/flr/72139-coop-filialen/2699?page={pg}\")\n",
    "    soup_Coop_2 = BeautifulSoup(page_Coop_2.content,\"html.parser\")\n",
    "    soup_Coop_2.findAll('address')\n",
    "    Loc_Coop.append(soup_Coop_2.findAll('address'))"
   ]
  },
  {
   "cell_type": "code",
   "execution_count": 8,
   "id": "c498aece-7952-4096-a90a-27525f1eb49c",
   "metadata": {
    "tags": []
   },
   "outputs": [
    {
     "data": {
      "text/plain": [
       "5"
      ]
     },
     "execution_count": 8,
     "metadata": {},
     "output_type": "execute_result"
    }
   ],
   "source": [
    "Loc_Coop.append(soup_Coop.findAll('address'))\n",
    "page_num_Coop=len(Loc_Coop)\n",
    "page_num_Coop"
   ]
  },
  {
   "cell_type": "code",
   "execution_count": 14,
   "id": "2fbf785f-2ab4-44e6-8ea0-64f44ff2495e",
   "metadata": {
    "tags": []
   },
   "outputs": [
    {
     "data": {
      "text/plain": [
       "['8045',\n",
       " '8002',\n",
       " '8037',\n",
       " '8006',\n",
       " '8006',\n",
       " '8055',\n",
       " '8037',\n",
       " '8024',\n",
       " '8047',\n",
       " '8001']"
      ]
     },
     "execution_count": 14,
     "metadata": {},
     "output_type": "execute_result"
    }
   ],
   "source": [
    "Address_Coop=[]\n",
    "Zip_Coop=[]\n",
    "for i in range(0,page_num_Coop):\n",
    "    for j in range(0,len(Loc_Coop[i])):\n",
    "        Address_Coop.append(Loc_Coop[i][j].contents[0].strip())\n",
    "        Zip_Coop.append(Loc_Coop[i][j].contents[2].strip().split()[0])\n",
    "Address_Coop[:10]\n",
    "Zip_Coop[:10]"
   ]
  },
  {
   "cell_type": "code",
   "execution_count": 15,
   "id": "c0430850-7796-44a9-bc0d-a76838125980",
   "metadata": {
    "tags": []
   },
   "outputs": [
    {
     "data": {
      "text/plain": [
       "0"
      ]
     },
     "execution_count": 15,
     "metadata": {},
     "output_type": "execute_result"
    }
   ],
   "source": [
    "len(Zip_Coop)-len(Address_Coop)"
   ]
  },
  {
   "cell_type": "code",
   "execution_count": 16,
   "id": "c735c910-4708-433e-8e7c-a16ccd26e760",
   "metadata": {
    "tags": []
   },
   "outputs": [],
   "source": [
    "df_Coop_Locator = pd.DataFrame(list(zip(Address_Coop,Zip_Coop)), columns=[\"Address\", \"Zip Code\"])"
   ]
  },
  {
   "cell_type": "code",
   "execution_count": 17,
   "id": "aefd02da-34b5-4146-8f07-2576dc0eb3f6",
   "metadata": {
    "tags": []
   },
   "outputs": [
    {
     "data": {
      "text/html": [
       "<div>\n",
       "<style scoped>\n",
       "    .dataframe tbody tr th:only-of-type {\n",
       "        vertical-align: middle;\n",
       "    }\n",
       "\n",
       "    .dataframe tbody tr th {\n",
       "        vertical-align: top;\n",
       "    }\n",
       "\n",
       "    .dataframe thead th {\n",
       "        text-align: right;\n",
       "    }\n",
       "</style>\n",
       "<table border=\"1\" class=\"dataframe\">\n",
       "  <thead>\n",
       "    <tr style=\"text-align: right;\">\n",
       "      <th></th>\n",
       "      <th>Address</th>\n",
       "      <th>Zip Code</th>\n",
       "    </tr>\n",
       "  </thead>\n",
       "  <tbody>\n",
       "    <tr>\n",
       "      <th>0</th>\n",
       "      <td>Uetlibergstrasse 20</td>\n",
       "      <td>8045</td>\n",
       "    </tr>\n",
       "    <tr>\n",
       "      <th>1</th>\n",
       "      <td>Tessinerplatz 10</td>\n",
       "      <td>8002</td>\n",
       "    </tr>\n",
       "    <tr>\n",
       "      <th>2</th>\n",
       "      <td>Röschibachstrasse 22</td>\n",
       "      <td>8037</td>\n",
       "    </tr>\n",
       "    <tr>\n",
       "      <th>3</th>\n",
       "      <td>Universitätstrasse 73</td>\n",
       "      <td>8006</td>\n",
       "    </tr>\n",
       "    <tr>\n",
       "      <th>4</th>\n",
       "      <td>Universitätstrasse 101</td>\n",
       "      <td>8006</td>\n",
       "    </tr>\n",
       "    <tr>\n",
       "      <th>...</th>\n",
       "      <td>...</td>\n",
       "      <td>...</td>\n",
       "    </tr>\n",
       "    <tr>\n",
       "      <th>57</th>\n",
       "      <td>Birmensdorferstrasse 200</td>\n",
       "      <td>8003</td>\n",
       "    </tr>\n",
       "    <tr>\n",
       "      <th>58</th>\n",
       "      <td>Badenerstrasse 333</td>\n",
       "      <td>8003</td>\n",
       "    </tr>\n",
       "    <tr>\n",
       "      <th>59</th>\n",
       "      <td>Maschinenstrasse 10</td>\n",
       "      <td>8005</td>\n",
       "    </tr>\n",
       "    <tr>\n",
       "      <th>60</th>\n",
       "      <td>Bleicherweg 19</td>\n",
       "      <td>8002</td>\n",
       "    </tr>\n",
       "    <tr>\n",
       "      <th>61</th>\n",
       "      <td>Giessereistrasse 18</td>\n",
       "      <td>8005</td>\n",
       "    </tr>\n",
       "  </tbody>\n",
       "</table>\n",
       "<p>62 rows × 2 columns</p>\n",
       "</div>"
      ],
      "text/plain": [
       "                     Address Zip Code\n",
       "0        Uetlibergstrasse 20     8045\n",
       "1           Tessinerplatz 10     8002\n",
       "2       Röschibachstrasse 22     8037\n",
       "3      Universitätstrasse 73     8006\n",
       "4     Universitätstrasse 101     8006\n",
       "..                       ...      ...\n",
       "57  Birmensdorferstrasse 200     8003\n",
       "58        Badenerstrasse 333     8003\n",
       "59       Maschinenstrasse 10     8005\n",
       "60            Bleicherweg 19     8002\n",
       "61       Giessereistrasse 18     8005\n",
       "\n",
       "[62 rows x 2 columns]"
      ]
     },
     "execution_count": 17,
     "metadata": {},
     "output_type": "execute_result"
    }
   ],
   "source": [
    "df_Coop_Locator"
   ]
  },
  {
   "cell_type": "code",
   "execution_count": null,
   "id": "3e062148-ef21-4c54-bb60-0ba9b472eb00",
   "metadata": {},
   "outputs": [],
   "source": []
  }
 ],
 "metadata": {
  "kernelspec": {
   "display_name": "Python 3 (ipykernel)",
   "language": "python",
   "name": "python3"
  },
  "language_info": {
   "codemirror_mode": {
    "name": "ipython",
    "version": 3
   },
   "file_extension": ".py",
   "mimetype": "text/x-python",
   "name": "python",
   "nbconvert_exporter": "python",
   "pygments_lexer": "ipython3",
   "version": "3.11.5"
  }
 },
 "nbformat": 4,
 "nbformat_minor": 5
}
