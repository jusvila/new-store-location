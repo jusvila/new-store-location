{
 "cells": [
  {
   "cell_type": "code",
   "execution_count": 3,
   "id": "da187111-928b-4e0a-801a-a52fecfdbf55",
   "metadata": {
    "tags": []
   },
   "outputs": [],
   "source": [
    "from bs4 import BeautifulSoup\n",
    "import requests\n",
    "import pandas as pd\n",
    "import re\n",
    "import numpy as np"
   ]
  },
  {
   "cell_type": "code",
   "execution_count": 4,
   "id": "458784cf-f307-4a67-8492-8645b672e4fc",
   "metadata": {
    "tags": []
   },
   "outputs": [
    {
     "name": "stdout",
     "output_type": "stream",
     "text": [
      "200\n"
     ]
    },
    {
     "data": {
      "text/plain": [
       "bs4.BeautifulSoup"
      ]
     },
     "execution_count": 4,
     "metadata": {},
     "output_type": "execute_result"
    }
   ],
   "source": [
    "page_Lidl = requests.get(\"https://www.profital.ch/de/flr/72148-lidl-filialen/2699\")\n",
    "print(page_Lidl.status_code) ## prints 200 as status code\n",
    "#print(page.content[:3000]) ## prints the entire webpage content\n",
    "soup_Lidl = BeautifulSoup(page_Lidl.content, \"html.parser\")\n",
    "type(soup_Lidl)"
   ]
  },
  {
   "cell_type": "code",
   "execution_count": 5,
   "id": "43628cbc-0410-4d2a-afee-497798450368",
   "metadata": {
    "tags": []
   },
   "outputs": [],
   "source": [
    "soup_Lidl.findAll('address');"
   ]
  },
  {
   "cell_type": "code",
   "execution_count": 6,
   "id": "18b8fb18-947a-4006-8d29-764f29e50432",
   "metadata": {
    "tags": []
   },
   "outputs": [
    {
     "data": {
      "text/plain": [
       "1"
      ]
     },
     "execution_count": 6,
     "metadata": {},
     "output_type": "execute_result"
    }
   ],
   "source": [
    "Loc_Lidl=[]\n",
    "Loc_Lidl.append(soup_Lidl.findAll('address'))\n",
    "page_num_Lidl=len(Loc_Lidl)\n",
    "page_num_Lidl"
   ]
  },
  {
   "cell_type": "code",
   "execution_count": 7,
   "id": "2fbf785f-2ab4-44e6-8ea0-64f44ff2495e",
   "metadata": {
    "tags": []
   },
   "outputs": [
    {
     "data": {
      "text/plain": [
       "['8001', '8005', '8045', '8050', '8050', '8046', '8051']"
      ]
     },
     "execution_count": 7,
     "metadata": {},
     "output_type": "execute_result"
    }
   ],
   "source": [
    "Address_Lidl=[]\n",
    "Zip_Lidl=[]\n",
    "for i in range(0,page_num_Lidl):\n",
    "    for j in range(0,len(Loc_Lidl[i])):\n",
    "        Address_Lidl.append(Loc_Lidl[i][j].contents[0].strip())\n",
    "        Zip_Lidl.append(Loc_Lidl[i][j].contents[2].strip().split()[0])\n",
    "Address_Lidl[:10]\n",
    "Zip_Lidl[:10]"
   ]
  },
  {
   "cell_type": "code",
   "execution_count": 8,
   "id": "c0430850-7796-44a9-bc0d-a76838125980",
   "metadata": {
    "tags": []
   },
   "outputs": [
    {
     "data": {
      "text/plain": [
       "0"
      ]
     },
     "execution_count": 8,
     "metadata": {},
     "output_type": "execute_result"
    }
   ],
   "source": [
    "len(Zip_Lidl)-len(Address_Lidl)"
   ]
  },
  {
   "cell_type": "code",
   "execution_count": 9,
   "id": "c735c910-4708-433e-8e7c-a16ccd26e760",
   "metadata": {
    "tags": []
   },
   "outputs": [],
   "source": [
    "df_Lidl_Locator = pd.DataFrame(list(zip(Address_Lidl,Zip_Lidl)), columns=[\"Address\", \"Zip Code\"])"
   ]
  },
  {
   "cell_type": "code",
   "execution_count": 10,
   "id": "aefd02da-34b5-4146-8f07-2576dc0eb3f6",
   "metadata": {
    "tags": []
   },
   "outputs": [
    {
     "data": {
      "text/html": [
       "<div>\n",
       "<style scoped>\n",
       "    .dataframe tbody tr th:only-of-type {\n",
       "        vertical-align: middle;\n",
       "    }\n",
       "\n",
       "    .dataframe tbody tr th {\n",
       "        vertical-align: top;\n",
       "    }\n",
       "\n",
       "    .dataframe thead th {\n",
       "        text-align: right;\n",
       "    }\n",
       "</style>\n",
       "<table border=\"1\" class=\"dataframe\">\n",
       "  <thead>\n",
       "    <tr style=\"text-align: right;\">\n",
       "      <th></th>\n",
       "      <th>Address</th>\n",
       "      <th>Zip Code</th>\n",
       "    </tr>\n",
       "  </thead>\n",
       "  <tbody>\n",
       "    <tr>\n",
       "      <th>0</th>\n",
       "      <td>Fraumünsterstrasse 16</td>\n",
       "      <td>8001</td>\n",
       "    </tr>\n",
       "    <tr>\n",
       "      <th>1</th>\n",
       "      <td>Förrlibuckstrasse 62</td>\n",
       "      <td>8005</td>\n",
       "    </tr>\n",
       "    <tr>\n",
       "      <th>2</th>\n",
       "      <td>Grubenstrasse 28</td>\n",
       "      <td>8045</td>\n",
       "    </tr>\n",
       "    <tr>\n",
       "      <th>3</th>\n",
       "      <td>Hofwiesenstrasse 350</td>\n",
       "      <td>8050</td>\n",
       "    </tr>\n",
       "    <tr>\n",
       "      <th>4</th>\n",
       "      <td>Ohmstrasse 11</td>\n",
       "      <td>8050</td>\n",
       "    </tr>\n",
       "    <tr>\n",
       "      <th>5</th>\n",
       "      <td>Wehntalerstrasse 625</td>\n",
       "      <td>8046</td>\n",
       "    </tr>\n",
       "    <tr>\n",
       "      <th>6</th>\n",
       "      <td>Überlandstrasse 381</td>\n",
       "      <td>8051</td>\n",
       "    </tr>\n",
       "  </tbody>\n",
       "</table>\n",
       "</div>"
      ],
      "text/plain": [
       "                 Address Zip Code\n",
       "0  Fraumünsterstrasse 16     8001\n",
       "1   Förrlibuckstrasse 62     8005\n",
       "2       Grubenstrasse 28     8045\n",
       "3   Hofwiesenstrasse 350     8050\n",
       "4          Ohmstrasse 11     8050\n",
       "5   Wehntalerstrasse 625     8046\n",
       "6    Überlandstrasse 381     8051"
      ]
     },
     "execution_count": 10,
     "metadata": {},
     "output_type": "execute_result"
    }
   ],
   "source": [
    "df_Lidl_Locator"
   ]
  },
  {
   "cell_type": "code",
   "execution_count": null,
   "id": "3e062148-ef21-4c54-bb60-0ba9b472eb00",
   "metadata": {},
   "outputs": [],
   "source": []
  }
 ],
 "metadata": {
  "kernelspec": {
   "display_name": "Python 3 (ipykernel)",
   "language": "python",
   "name": "python3"
  },
  "language_info": {
   "codemirror_mode": {
    "name": "ipython",
    "version": 3
   },
   "file_extension": ".py",
   "mimetype": "text/x-python",
   "name": "python",
   "nbconvert_exporter": "python",
   "pygments_lexer": "ipython3",
   "version": "3.11.5"
  }
 },
 "nbformat": 4,
 "nbformat_minor": 5
}
