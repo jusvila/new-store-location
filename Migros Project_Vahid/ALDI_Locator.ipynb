{
 "cells": [
  {
   "cell_type": "code",
   "execution_count": 11,
   "id": "da187111-928b-4e0a-801a-a52fecfdbf55",
   "metadata": {
    "tags": []
   },
   "outputs": [],
   "source": [
    "from bs4 import BeautifulSoup\n",
    "import requests\n",
    "import pandas as pd\n",
    "import re\n",
    "import numpy as np"
   ]
  },
  {
   "cell_type": "code",
   "execution_count": 12,
   "id": "458784cf-f307-4a67-8492-8645b672e4fc",
   "metadata": {
    "tags": []
   },
   "outputs": [
    {
     "name": "stdout",
     "output_type": "stream",
     "text": [
      "200\n"
     ]
    },
    {
     "data": {
      "text/plain": [
       "bs4.BeautifulSoup"
      ]
     },
     "execution_count": 12,
     "metadata": {},
     "output_type": "execute_result"
    }
   ],
   "source": [
    "page_Aldi = requests.get(\"https://www.profital.ch/de/flr/72133-aldi-suisse-filialen/2699\")\n",
    "print(page_Aldi.status_code) ## prints 200 as status code\n",
    "#print(page.content[:3000]) ## prints the entire webpage content\n",
    "soup_Aldi = BeautifulSoup(page_Aldi.content, \"html.parser\")\n",
    "type(soup_Aldi)"
   ]
  },
  {
   "cell_type": "code",
   "execution_count": 13,
   "id": "43628cbc-0410-4d2a-afee-497798450368",
   "metadata": {
    "tags": []
   },
   "outputs": [],
   "source": [
    "soup_Aldi.findAll('address');"
   ]
  },
  {
   "cell_type": "code",
   "execution_count": 14,
   "id": "18b8fb18-947a-4006-8d29-764f29e50432",
   "metadata": {
    "tags": []
   },
   "outputs": [
    {
     "data": {
      "text/plain": [
       "1"
      ]
     },
     "execution_count": 14,
     "metadata": {},
     "output_type": "execute_result"
    }
   ],
   "source": [
    "Loc_Aldi=[]\n",
    "Loc_Aldi.append(soup_Aldi.findAll('address'))\n",
    "page_num_Aldi=len(Loc_Aldi)\n",
    "page_num_Aldi"
   ]
  },
  {
   "cell_type": "code",
   "execution_count": 19,
   "id": "2fbf785f-2ab4-44e6-8ea0-64f44ff2495e",
   "metadata": {
    "tags": []
   },
   "outputs": [
    {
     "data": {
      "text/plain": [
       "['8005',\n",
       " '8001',\n",
       " '8001',\n",
       " '8048',\n",
       " '8048',\n",
       " '8050',\n",
       " '8038',\n",
       " '8050',\n",
       " '8038',\n",
       " '8053']"
      ]
     },
     "execution_count": 19,
     "metadata": {},
     "output_type": "execute_result"
    }
   ],
   "source": [
    "Address_Aldi=[]\n",
    "Zip_Aldi=[]\n",
    "for i in range(0,page_num_Aldi):\n",
    "    for j in range(0,len(Loc_Aldi[i])):\n",
    "        Address_Aldi.append(Loc_Aldi[i][j].contents[0].strip())\n",
    "        Zip_Aldi.append(Loc_Aldi[i][j].contents[2].strip().split()[0])\n",
    "Address_Aldi[:10]\n",
    "Zip_Aldi[:10]"
   ]
  },
  {
   "cell_type": "code",
   "execution_count": 20,
   "id": "c0430850-7796-44a9-bc0d-a76838125980",
   "metadata": {
    "tags": []
   },
   "outputs": [
    {
     "data": {
      "text/plain": [
       "0"
      ]
     },
     "execution_count": 20,
     "metadata": {},
     "output_type": "execute_result"
    }
   ],
   "source": [
    "len(Zip_Aldi)-len(Address_Aldi)"
   ]
  },
  {
   "cell_type": "code",
   "execution_count": 21,
   "id": "c735c910-4708-433e-8e7c-a16ccd26e760",
   "metadata": {
    "tags": []
   },
   "outputs": [],
   "source": [
    "df_Aldi_Locator = pd.DataFrame(list(zip(Address_Aldi,Zip_Aldi)), columns=[\"Address\", \"Zip Code\"])"
   ]
  },
  {
   "cell_type": "code",
   "execution_count": 23,
   "id": "aefd02da-34b5-4146-8f07-2576dc0eb3f6",
   "metadata": {
    "tags": []
   },
   "outputs": [
    {
     "data": {
      "text/html": [
       "<div>\n",
       "<style scoped>\n",
       "    .dataframe tbody tr th:only-of-type {\n",
       "        vertical-align: middle;\n",
       "    }\n",
       "\n",
       "    .dataframe tbody tr th {\n",
       "        vertical-align: top;\n",
       "    }\n",
       "\n",
       "    .dataframe thead th {\n",
       "        text-align: right;\n",
       "    }\n",
       "</style>\n",
       "<table border=\"1\" class=\"dataframe\">\n",
       "  <thead>\n",
       "    <tr style=\"text-align: right;\">\n",
       "      <th></th>\n",
       "      <th>Address</th>\n",
       "      <th>Zip Code</th>\n",
       "    </tr>\n",
       "  </thead>\n",
       "  <tbody>\n",
       "    <tr>\n",
       "      <th>0</th>\n",
       "      <td>Zollstrasse 58</td>\n",
       "      <td>8005</td>\n",
       "    </tr>\n",
       "    <tr>\n",
       "      <th>1</th>\n",
       "      <td>Sihlstrasse 3</td>\n",
       "      <td>8001</td>\n",
       "    </tr>\n",
       "    <tr>\n",
       "      <th>2</th>\n",
       "      <td>Stadelhoferstrasse 10</td>\n",
       "      <td>8001</td>\n",
       "    </tr>\n",
       "    <tr>\n",
       "      <th>3</th>\n",
       "      <td>Badenerstrasse 565</td>\n",
       "      <td>8048</td>\n",
       "    </tr>\n",
       "    <tr>\n",
       "      <th>4</th>\n",
       "      <td>Hohlstrasse 473</td>\n",
       "      <td>8048</td>\n",
       "    </tr>\n",
       "    <tr>\n",
       "      <th>5</th>\n",
       "      <td>Baumackerstrasse 35</td>\n",
       "      <td>8050</td>\n",
       "    </tr>\n",
       "    <tr>\n",
       "      <th>6</th>\n",
       "      <td>Mythenquai 353</td>\n",
       "      <td>8038</td>\n",
       "    </tr>\n",
       "    <tr>\n",
       "      <th>7</th>\n",
       "      <td>Binzmühlestrasse 102</td>\n",
       "      <td>8050</td>\n",
       "    </tr>\n",
       "    <tr>\n",
       "      <th>8</th>\n",
       "      <td>Albisstrasse 81</td>\n",
       "      <td>8038</td>\n",
       "    </tr>\n",
       "    <tr>\n",
       "      <th>9</th>\n",
       "      <td>Witikonerstrasse 279</td>\n",
       "      <td>8053</td>\n",
       "    </tr>\n",
       "    <tr>\n",
       "      <th>10</th>\n",
       "      <td>Schärenmoosstrasse 77</td>\n",
       "      <td>8052</td>\n",
       "    </tr>\n",
       "    <tr>\n",
       "      <th>11</th>\n",
       "      <td>Überlandstrasse 441</td>\n",
       "      <td>8051</td>\n",
       "    </tr>\n",
       "  </tbody>\n",
       "</table>\n",
       "</div>"
      ],
      "text/plain": [
       "                  Address Zip Code\n",
       "0          Zollstrasse 58     8005\n",
       "1           Sihlstrasse 3     8001\n",
       "2   Stadelhoferstrasse 10     8001\n",
       "3      Badenerstrasse 565     8048\n",
       "4         Hohlstrasse 473     8048\n",
       "5     Baumackerstrasse 35     8050\n",
       "6          Mythenquai 353     8038\n",
       "7    Binzmühlestrasse 102     8050\n",
       "8         Albisstrasse 81     8038\n",
       "9    Witikonerstrasse 279     8053\n",
       "10  Schärenmoosstrasse 77     8052\n",
       "11    Überlandstrasse 441     8051"
      ]
     },
     "execution_count": 23,
     "metadata": {},
     "output_type": "execute_result"
    }
   ],
   "source": [
    "df_Aldi_Locator"
   ]
  },
  {
   "cell_type": "code",
   "execution_count": null,
   "id": "3e062148-ef21-4c54-bb60-0ba9b472eb00",
   "metadata": {},
   "outputs": [],
   "source": []
  }
 ],
 "metadata": {
  "kernelspec": {
   "display_name": "Python 3 (ipykernel)",
   "language": "python",
   "name": "python3"
  },
  "language_info": {
   "codemirror_mode": {
    "name": "ipython",
    "version": 3
   },
   "file_extension": ".py",
   "mimetype": "text/x-python",
   "name": "python",
   "nbconvert_exporter": "python",
   "pygments_lexer": "ipython3",
   "version": "3.11.5"
  }
 },
 "nbformat": 4,
 "nbformat_minor": 5
}
