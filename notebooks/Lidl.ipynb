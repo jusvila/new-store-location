{
 "cells": [
  {
   "cell_type": "code",
   "execution_count": 3,
   "id": "a45d2115-6a50-41e5-bc98-ca80e0940c90",
   "metadata": {},
   "outputs": [],
   "source": [
    "import json\n",
    "import requests\n",
    "import yaml\n",
    "import pandas as pd\n",
    "import warnings\n",
    "from bs4 import BeautifulSoup\n",
    "import re\n",
    "import numpy as np\n",
    "from shapely.geometry import Point\n",
    "warnings.simplefilter(action='ignore', category=FutureWarning)"
   ]
  },
  {
   "cell_type": "code",
   "execution_count": 4,
   "id": "753c19f7-fdbc-40d3-a546-d8765928d429",
   "metadata": {},
   "outputs": [],
   "source": [
    "# key_dict = {'key' : ''}"
   ]
  },
  {
   "cell_type": "code",
   "execution_count": 5,
   "id": "a4644796-c3e4-4b0e-a6ee-701cbca10849",
   "metadata": {},
   "outputs": [],
   "source": [
    "# dump the key into yaml \n",
    "with open('credentials.yml','w') as output:\n",
    "    yaml.dump(key_dict, output)\n",
    "    \n",
    "# get the key from .yaml file\n",
    "key_dict = yaml.load(open('credentials.yml'), Loader=yaml.FullLoader)  "
   ]
  },
  {
   "cell_type": "code",
   "execution_count": 6,
   "id": "7e3a652c-cb77-4a8d-b93c-282ae5c862de",
   "metadata": {},
   "outputs": [],
   "source": [
    "key_dict = yaml.load(open(\"credentials.yml\"), Loader=yaml.FullLoader)\n",
    "gmaps_key = key_dict[\"key\"]\n",
    "api_key = gmaps_key"
   ]
  },
  {
   "cell_type": "markdown",
   "id": "5b49ea45-596d-4496-8882-74d029d6d548",
   "metadata": {},
   "source": [
    "### Scraping Coop locations in Zürich"
   ]
  },
  {
   "cell_type": "code",
   "execution_count": 7,
   "id": "167cdad3-e6f2-4392-a9cd-1b4b75747be7",
   "metadata": {},
   "outputs": [
    {
     "name": "stdout",
     "output_type": "stream",
     "text": [
      "200\n"
     ]
    },
    {
     "data": {
      "text/plain": [
       "bs4.BeautifulSoup"
      ]
     },
     "execution_count": 7,
     "metadata": {},
     "output_type": "execute_result"
    }
   ],
   "source": [
    "page_Lidl = requests.get(\"https://www.profital.ch/de/flr/72148-lidl-filialen/2699\")\n",
    "print(page_Lidl.status_code) ## prints 200 as status code\n",
    "#print(page.content[:3000]) ## prints the entire webpage content\n",
    "soup_Lidl = BeautifulSoup(page_Lidl.content, \"html.parser\")\n",
    "type(soup_Lidl)"
   ]
  },
  {
   "cell_type": "code",
   "execution_count": 8,
   "id": "55d2b90b-96bc-4104-b02c-4576f01b3459",
   "metadata": {},
   "outputs": [],
   "source": [
    "soup_Lidl.findAll('address');"
   ]
  },
  {
   "cell_type": "code",
   "execution_count": 9,
   "id": "fdb4a0ad-c38b-4ee7-836f-37a80249cb8f",
   "metadata": {},
   "outputs": [
    {
     "data": {
      "text/plain": [
       "1"
      ]
     },
     "execution_count": 9,
     "metadata": {},
     "output_type": "execute_result"
    }
   ],
   "source": [
    "Loc_Lidl=[]\n",
    "Loc_Lidl.append(soup_Lidl.findAll('address'))\n",
    "page_num_Lidl=len(Loc_Lidl)\n",
    "page_num_Lidl"
   ]
  },
  {
   "cell_type": "code",
   "execution_count": 11,
   "id": "1a7ffa25-04b9-44e9-9682-05f5488df6ff",
   "metadata": {},
   "outputs": [],
   "source": [
    "Address_Lidl=[]\n",
    "Zip_Lidl=[]\n",
    "for i in range(0,page_num_Lidl):\n",
    "    for j in range(0,len(Loc_Lidl[i])):\n",
    "        Address_Lidl.append(Loc_Lidl[i][j].contents[0].strip())\n",
    "        Zip_Lidl.append(Loc_Lidl[i][j].contents[2].strip().split()[0])"
   ]
  },
  {
   "cell_type": "code",
   "execution_count": 13,
   "id": "55583a1b-e039-4b7e-a771-43241aa8ca6c",
   "metadata": {},
   "outputs": [
    {
     "data": {
      "text/html": [
       "<div>\n",
       "<style scoped>\n",
       "    .dataframe tbody tr th:only-of-type {\n",
       "        vertical-align: middle;\n",
       "    }\n",
       "\n",
       "    .dataframe tbody tr th {\n",
       "        vertical-align: top;\n",
       "    }\n",
       "\n",
       "    .dataframe thead th {\n",
       "        text-align: right;\n",
       "    }\n",
       "</style>\n",
       "<table border=\"1\" class=\"dataframe\">\n",
       "  <thead>\n",
       "    <tr style=\"text-align: right;\">\n",
       "      <th></th>\n",
       "      <th>Address</th>\n",
       "      <th>Zip_Code</th>\n",
       "    </tr>\n",
       "  </thead>\n",
       "  <tbody>\n",
       "    <tr>\n",
       "      <th>0</th>\n",
       "      <td>Fraumünsterstrasse 16</td>\n",
       "      <td>8001</td>\n",
       "    </tr>\n",
       "    <tr>\n",
       "      <th>1</th>\n",
       "      <td>Förrlibuckstrasse 62</td>\n",
       "      <td>8005</td>\n",
       "    </tr>\n",
       "    <tr>\n",
       "      <th>2</th>\n",
       "      <td>Grubenstrasse 28</td>\n",
       "      <td>8045</td>\n",
       "    </tr>\n",
       "    <tr>\n",
       "      <th>3</th>\n",
       "      <td>Hofwiesenstrasse 350</td>\n",
       "      <td>8050</td>\n",
       "    </tr>\n",
       "    <tr>\n",
       "      <th>4</th>\n",
       "      <td>Ohmstrasse 11</td>\n",
       "      <td>8050</td>\n",
       "    </tr>\n",
       "    <tr>\n",
       "      <th>5</th>\n",
       "      <td>Wehntalerstrasse 625</td>\n",
       "      <td>8046</td>\n",
       "    </tr>\n",
       "    <tr>\n",
       "      <th>6</th>\n",
       "      <td>Überlandstrasse 381</td>\n",
       "      <td>8051</td>\n",
       "    </tr>\n",
       "  </tbody>\n",
       "</table>\n",
       "</div>"
      ],
      "text/plain": [
       "                 Address Zip_Code\n",
       "0  Fraumünsterstrasse 16     8001\n",
       "1   Förrlibuckstrasse 62     8005\n",
       "2       Grubenstrasse 28     8045\n",
       "3   Hofwiesenstrasse 350     8050\n",
       "4          Ohmstrasse 11     8050\n",
       "5   Wehntalerstrasse 625     8046\n",
       "6    Überlandstrasse 381     8051"
      ]
     },
     "execution_count": 13,
     "metadata": {},
     "output_type": "execute_result"
    }
   ],
   "source": [
    "df_Lidl_Locator = pd.DataFrame(list(zip(Address_Lidl,Zip_Lidl)), columns=[\"Address\", \"Zip_Code\"])\n",
    "df_Lidl_Locator"
   ]
  },
  {
   "cell_type": "code",
   "execution_count": 14,
   "id": "de1e5e51-8515-4f74-b644-e77ed9df8ff9",
   "metadata": {},
   "outputs": [
    {
     "data": {
      "text/html": [
       "<div>\n",
       "<style scoped>\n",
       "    .dataframe tbody tr th:only-of-type {\n",
       "        vertical-align: middle;\n",
       "    }\n",
       "\n",
       "    .dataframe tbody tr th {\n",
       "        vertical-align: top;\n",
       "    }\n",
       "\n",
       "    .dataframe thead th {\n",
       "        text-align: right;\n",
       "    }\n",
       "</style>\n",
       "<table border=\"1\" class=\"dataframe\">\n",
       "  <thead>\n",
       "    <tr style=\"text-align: right;\">\n",
       "      <th></th>\n",
       "      <th>address</th>\n",
       "    </tr>\n",
       "  </thead>\n",
       "  <tbody>\n",
       "    <tr>\n",
       "      <th>0</th>\n",
       "      <td>Fraumünsterstrasse 16, 8001</td>\n",
       "    </tr>\n",
       "    <tr>\n",
       "      <th>1</th>\n",
       "      <td>Förrlibuckstrasse 62, 8005</td>\n",
       "    </tr>\n",
       "    <tr>\n",
       "      <th>2</th>\n",
       "      <td>Grubenstrasse 28, 8045</td>\n",
       "    </tr>\n",
       "    <tr>\n",
       "      <th>3</th>\n",
       "      <td>Hofwiesenstrasse 350, 8050</td>\n",
       "    </tr>\n",
       "    <tr>\n",
       "      <th>4</th>\n",
       "      <td>Ohmstrasse 11, 8050</td>\n",
       "    </tr>\n",
       "    <tr>\n",
       "      <th>5</th>\n",
       "      <td>Wehntalerstrasse 625, 8046</td>\n",
       "    </tr>\n",
       "    <tr>\n",
       "      <th>6</th>\n",
       "      <td>Überlandstrasse 381, 8051</td>\n",
       "    </tr>\n",
       "  </tbody>\n",
       "</table>\n",
       "</div>"
      ],
      "text/plain": [
       "                       address\n",
       "0  Fraumünsterstrasse 16, 8001\n",
       "1   Förrlibuckstrasse 62, 8005\n",
       "2       Grubenstrasse 28, 8045\n",
       "3   Hofwiesenstrasse 350, 8050\n",
       "4          Ohmstrasse 11, 8050\n",
       "5   Wehntalerstrasse 625, 8046\n",
       "6    Überlandstrasse 381, 8051"
      ]
     },
     "execution_count": 14,
     "metadata": {},
     "output_type": "execute_result"
    }
   ],
   "source": [
    "df_Lidl_Address = pd.DataFrame()\n",
    "# Combine Address and Zip Code into a single column\n",
    "df_Lidl_Address[\"address\"] = df_Lidl_Locator[\"Address\"] + ', ' + df_Lidl_Locator[\"Zip_Code\"]\n",
    "df_Lidl_Address"
   ]
  },
  {
   "cell_type": "markdown",
   "id": "1e87ebee-9af2-4125-8918-be673dfe8806",
   "metadata": {},
   "source": [
    "### Getting store locations from Google Maps and mapping the location to Kreis name"
   ]
  },
  {
   "cell_type": "code",
   "execution_count": 15,
   "id": "080c6b31-1352-499a-90a2-f2243b5494fc",
   "metadata": {},
   "outputs": [],
   "source": [
    "from shapely.geometry import shape, GeometryCollection, Point"
   ]
  },
  {
   "cell_type": "code",
   "execution_count": 16,
   "id": "21a41eb2-7657-4ca0-b334-60b78e32c0c6",
   "metadata": {},
   "outputs": [],
   "source": [
    "# Function to get latitude and longitude from Google Maps API\n",
    "def get_lat_lng(api_key, query):\n",
    "    url = \"https://maps.googleapis.com/maps/api/place/textsearch/json?\"\n",
    "    req = requests.get(url + \"query=\" + query + \"&key=\" + api_key)\n",
    "    places_json = req.json()\n",
    "    my_result = places_json.get(\"results\", [])\n",
    "\n",
    "    if my_result:\n",
    "        location = my_result[0].get(\"geometry\", {}).get(\"location\", {})\n",
    "        lat, lng = location.get(\"lat\"), location.get(\"lng\")\n",
    "        return lat, lng\n",
    "    else:\n",
    "        return None, None"
   ]
  },
  {
   "cell_type": "code",
   "execution_count": 17,
   "id": "dd1553cd-7bff-40e1-bd11-762035c1ff41",
   "metadata": {},
   "outputs": [],
   "source": [
    "# Function to get kreis_name from GeoJSON data\n",
    "def get_kreis_name(point, geojson_data):\n",
    "    for feature in geojson_data[\"features\"]:\n",
    "        polygon = shape(feature[\"geometry\"])\n",
    "        if polygon.contains(point):\n",
    "            return feature[\"properties\"][\"bezeichnung\"]\n",
    "    return None"
   ]
  },
  {
   "cell_type": "code",
   "execution_count": 19,
   "id": "2935a3af-95bb-4fdf-9c73-99ac357b8b5c",
   "metadata": {},
   "outputs": [
    {
     "data": {
      "text/html": [
       "<div>\n",
       "<style scoped>\n",
       "    .dataframe tbody tr th:only-of-type {\n",
       "        vertical-align: middle;\n",
       "    }\n",
       "\n",
       "    .dataframe tbody tr th {\n",
       "        vertical-align: top;\n",
       "    }\n",
       "\n",
       "    .dataframe thead th {\n",
       "        text-align: right;\n",
       "    }\n",
       "</style>\n",
       "<table border=\"1\" class=\"dataframe\">\n",
       "  <thead>\n",
       "    <tr style=\"text-align: right;\">\n",
       "      <th></th>\n",
       "      <th>address</th>\n",
       "      <th>latitude</th>\n",
       "      <th>longitude</th>\n",
       "      <th>kreis_name</th>\n",
       "    </tr>\n",
       "  </thead>\n",
       "  <tbody>\n",
       "    <tr>\n",
       "      <th>0</th>\n",
       "      <td>Fraumünsterstrasse 16, 8001</td>\n",
       "      <td>47.368829</td>\n",
       "      <td>8.541070</td>\n",
       "      <td>Kreis 1</td>\n",
       "    </tr>\n",
       "    <tr>\n",
       "      <th>1</th>\n",
       "      <td>Förrlibuckstrasse 62, 8005</td>\n",
       "      <td>47.392027</td>\n",
       "      <td>8.514986</td>\n",
       "      <td>Kreis 5</td>\n",
       "    </tr>\n",
       "    <tr>\n",
       "      <th>2</th>\n",
       "      <td>Grubenstrasse 28, 8045</td>\n",
       "      <td>47.361769</td>\n",
       "      <td>8.514720</td>\n",
       "      <td>Kreis 3</td>\n",
       "    </tr>\n",
       "    <tr>\n",
       "      <th>3</th>\n",
       "      <td>Hofwiesenstrasse 350, 8050</td>\n",
       "      <td>47.410351</td>\n",
       "      <td>8.543040</td>\n",
       "      <td>Kreis 11</td>\n",
       "    </tr>\n",
       "    <tr>\n",
       "      <th>4</th>\n",
       "      <td>Ohmstrasse 11, 8050</td>\n",
       "      <td>47.410340</td>\n",
       "      <td>8.545741</td>\n",
       "      <td>Kreis 11</td>\n",
       "    </tr>\n",
       "    <tr>\n",
       "      <th>5</th>\n",
       "      <td>Wehntalerstrasse 625, 8046</td>\n",
       "      <td>47.422285</td>\n",
       "      <td>8.499196</td>\n",
       "      <td>Kreis 11</td>\n",
       "    </tr>\n",
       "    <tr>\n",
       "      <th>6</th>\n",
       "      <td>Überlandstrasse 381, 8051</td>\n",
       "      <td>47.407813</td>\n",
       "      <td>8.585103</td>\n",
       "      <td>Kreis 12</td>\n",
       "    </tr>\n",
       "  </tbody>\n",
       "</table>\n",
       "</div>"
      ],
      "text/plain": [
       "                       address   latitude  longitude kreis_name\n",
       "0  Fraumünsterstrasse 16, 8001  47.368829   8.541070    Kreis 1\n",
       "1   Förrlibuckstrasse 62, 8005  47.392027   8.514986    Kreis 5\n",
       "2       Grubenstrasse 28, 8045  47.361769   8.514720    Kreis 3\n",
       "3   Hofwiesenstrasse 350, 8050  47.410351   8.543040   Kreis 11\n",
       "4          Ohmstrasse 11, 8050  47.410340   8.545741   Kreis 11\n",
       "5   Wehntalerstrasse 625, 8046  47.422285   8.499196   Kreis 11\n",
       "6    Überlandstrasse 381, 8051  47.407813   8.585103   Kreis 12"
      ]
     },
     "execution_count": 19,
     "metadata": {},
     "output_type": "execute_result"
    }
   ],
   "source": [
    "# Load GeoJSON data\n",
    "with open('data/stzh.adm_stadtkreise_a.json', 'r') as f:\n",
    "    geojson_data = json.load(f)\n",
    "\n",
    "# Create a DataFrame to store the results\n",
    "columns = [\"address\", \"latitude\", \"longitude\", \"kreis_name\"]\n",
    "lidl_df = pd.DataFrame(columns=columns)\n",
    "\n",
    "# Iterate through addresses in the DataFrame\n",
    "for index, row in df_Lidl_Address.iterrows():\n",
    "    address = row[\"address\"]\n",
    "    \n",
    "    # Get latitude and longitude from Google Maps API\n",
    "    lat, lng = get_lat_lng(api_key, address)\n",
    "    \n",
    "    # If coordinates are found, create a Point object\n",
    "    if lat is not None and lng is not None:\n",
    "        point = Point(lng, lat)\n",
    "        \n",
    "        # Get kreis_name from GeoJSON data\n",
    "        kreis_name = get_kreis_name(point, geojson_data)\n",
    "        \n",
    "        # Append results to DataFrame\n",
    "        lidl_df = pd.concat([lidl_df, pd.DataFrame([{\"address\": address, \"latitude\": lat, \"longitude\": lng, \"kreis_name\": kreis_name}])], ignore_index=True)\n",
    "\n",
    "# Display the final DataFrame\n",
    "lidl_df"
   ]
  },
  {
   "cell_type": "code",
   "execution_count": 20,
   "id": "bce9288d-675f-4193-b64d-26502a7165dc",
   "metadata": {},
   "outputs": [
    {
     "name": "stdout",
     "output_type": "stream",
     "text": [
      "<class 'pandas.core.frame.DataFrame'>\n",
      "RangeIndex: 7 entries, 0 to 6\n",
      "Data columns (total 4 columns):\n",
      " #   Column      Non-Null Count  Dtype  \n",
      "---  ------      --------------  -----  \n",
      " 0   address     7 non-null      object \n",
      " 1   latitude    7 non-null      float64\n",
      " 2   longitude   7 non-null      float64\n",
      " 3   kreis_name  7 non-null      object \n",
      "dtypes: float64(2), object(2)\n",
      "memory usage: 356.0+ bytes\n"
     ]
    }
   ],
   "source": [
    "lidl_df.info()"
   ]
  },
  {
   "cell_type": "code",
   "execution_count": 21,
   "id": "e057fa50-9e59-4744-98e4-a9e855af834a",
   "metadata": {},
   "outputs": [],
   "source": [
    "# Save DataFrame to CSV\n",
    "lidl_df.to_csv('lidl_data.csv', index=False)"
   ]
  }
 ],
 "metadata": {
  "kernelspec": {
   "display_name": "Python 3 (ipykernel)",
   "language": "python",
   "name": "python3"
  },
  "language_info": {
   "codemirror_mode": {
    "name": "ipython",
    "version": 3
   },
   "file_extension": ".py",
   "mimetype": "text/x-python",
   "name": "python",
   "nbconvert_exporter": "python",
   "pygments_lexer": "ipython3",
   "version": "3.12.0"
  }
 },
 "nbformat": 4,
 "nbformat_minor": 5
}
