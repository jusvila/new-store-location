{
 "cells": [
  {
   "cell_type": "code",
   "execution_count": 1,
   "id": "a45d2115-6a50-41e5-bc98-ca80e0940c90",
   "metadata": {},
   "outputs": [],
   "source": [
    "import json\n",
    "import requests\n",
    "import yaml\n",
    "import pandas as pd\n",
    "import warnings\n",
    "from bs4 import BeautifulSoup\n",
    "import re\n",
    "import numpy as np\n",
    "from shapely.geometry import Point\n",
    "warnings.simplefilter(action='ignore', category=FutureWarning)"
   ]
  },
  {
   "cell_type": "code",
   "execution_count": 2,
   "id": "753c19f7-fdbc-40d3-a546-d8765928d429",
   "metadata": {},
   "outputs": [],
   "source": [
    "# key_dict = {'key' : ''}"
   ]
  },
  {
   "cell_type": "code",
   "execution_count": 3,
   "id": "a4644796-c3e4-4b0e-a6ee-701cbca10849",
   "metadata": {},
   "outputs": [],
   "source": [
    "# dump the key into yaml \n",
    "with open('credentials.yml','w') as output:\n",
    "    yaml.dump(key_dict, output)\n",
    "    \n",
    "# get the key from .yaml file\n",
    "key_dict = yaml.load(open('credentials.yml'), Loader=yaml.FullLoader)  "
   ]
  },
  {
   "cell_type": "code",
   "execution_count": 4,
   "id": "7e3a652c-cb77-4a8d-b93c-282ae5c862de",
   "metadata": {},
   "outputs": [],
   "source": [
    "key_dict = yaml.load(open(\"credentials.yml\"), Loader=yaml.FullLoader)\n",
    "gmaps_key = key_dict[\"key\"]\n",
    "api_key = gmaps_key"
   ]
  },
  {
   "cell_type": "markdown",
   "id": "5b49ea45-596d-4496-8882-74d029d6d548",
   "metadata": {},
   "source": [
    "### Scraping Coop locations in Zürich"
   ]
  },
  {
   "cell_type": "code",
   "execution_count": 5,
   "id": "167cdad3-e6f2-4392-a9cd-1b4b75747be7",
   "metadata": {},
   "outputs": [
    {
     "name": "stdout",
     "output_type": "stream",
     "text": [
      "200\n"
     ]
    },
    {
     "data": {
      "text/plain": [
       "bs4.BeautifulSoup"
      ]
     },
     "execution_count": 5,
     "metadata": {},
     "output_type": "execute_result"
    }
   ],
   "source": [
    "page_Aldi = requests.get(\"https://www.profital.ch/de/flr/72133-aldi-suisse-filialen/2699\")\n",
    "print(page_Aldi.status_code) ## prints 200 as status code\n",
    "#print(page.content[:3000]) ## prints the entire webpage content\n",
    "soup_Aldi = BeautifulSoup(page_Aldi.content, \"html.parser\")\n",
    "type(soup_Aldi)"
   ]
  },
  {
   "cell_type": "code",
   "execution_count": 6,
   "id": "55d2b90b-96bc-4104-b02c-4576f01b3459",
   "metadata": {},
   "outputs": [],
   "source": [
    "soup_Aldi.findAll('address');"
   ]
  },
  {
   "cell_type": "code",
   "execution_count": 7,
   "id": "fdb4a0ad-c38b-4ee7-836f-37a80249cb8f",
   "metadata": {},
   "outputs": [
    {
     "data": {
      "text/plain": [
       "1"
      ]
     },
     "execution_count": 7,
     "metadata": {},
     "output_type": "execute_result"
    }
   ],
   "source": [
    "Loc_Aldi=[]\n",
    "Loc_Aldi.append(soup_Aldi.findAll('address'))\n",
    "page_num_Aldi=len(Loc_Aldi)\n",
    "page_num_Aldi"
   ]
  },
  {
   "cell_type": "code",
   "execution_count": 9,
   "id": "1a7ffa25-04b9-44e9-9682-05f5488df6ff",
   "metadata": {},
   "outputs": [],
   "source": [
    "Address_Aldi=[]\n",
    "Zip_Aldi=[]\n",
    "for i in range(0,page_num_Aldi):\n",
    "    for j in range(0,len(Loc_Aldi[i])):\n",
    "        Address_Aldi.append(Loc_Aldi[i][j].contents[0].strip())\n",
    "        Zip_Aldi.append(Loc_Aldi[i][j].contents[2].strip().split()[0])"
   ]
  },
  {
   "cell_type": "code",
   "execution_count": 14,
   "id": "55583a1b-e039-4b7e-a771-43241aa8ca6c",
   "metadata": {},
   "outputs": [],
   "source": [
    "df_Aldi_Locator = pd.DataFrame(list(zip(Address_Aldi,Zip_Aldi)), columns=[\"Address\", \"Zip_Code\"])"
   ]
  },
  {
   "cell_type": "code",
   "execution_count": 15,
   "id": "de1e5e51-8515-4f74-b644-e77ed9df8ff9",
   "metadata": {},
   "outputs": [
    {
     "data": {
      "text/html": [
       "<div>\n",
       "<style scoped>\n",
       "    .dataframe tbody tr th:only-of-type {\n",
       "        vertical-align: middle;\n",
       "    }\n",
       "\n",
       "    .dataframe tbody tr th {\n",
       "        vertical-align: top;\n",
       "    }\n",
       "\n",
       "    .dataframe thead th {\n",
       "        text-align: right;\n",
       "    }\n",
       "</style>\n",
       "<table border=\"1\" class=\"dataframe\">\n",
       "  <thead>\n",
       "    <tr style=\"text-align: right;\">\n",
       "      <th></th>\n",
       "      <th>address</th>\n",
       "    </tr>\n",
       "  </thead>\n",
       "  <tbody>\n",
       "    <tr>\n",
       "      <th>0</th>\n",
       "      <td>Stadelhoferstrasse 10, 8001</td>\n",
       "    </tr>\n",
       "    <tr>\n",
       "      <th>1</th>\n",
       "      <td>Mythenquai 353, 8038</td>\n",
       "    </tr>\n",
       "    <tr>\n",
       "      <th>2</th>\n",
       "      <td>Albisstrasse 81, 8038</td>\n",
       "    </tr>\n",
       "    <tr>\n",
       "      <th>3</th>\n",
       "      <td>Witikonerstrasse 279, 8053</td>\n",
       "    </tr>\n",
       "    <tr>\n",
       "      <th>4</th>\n",
       "      <td>Sihlstrasse 3, 8001</td>\n",
       "    </tr>\n",
       "    <tr>\n",
       "      <th>5</th>\n",
       "      <td>Zollstrasse 58, 8005</td>\n",
       "    </tr>\n",
       "    <tr>\n",
       "      <th>6</th>\n",
       "      <td>Badenerstrasse 565, 8048</td>\n",
       "    </tr>\n",
       "    <tr>\n",
       "      <th>7</th>\n",
       "      <td>Hohlstrasse 473, 8048</td>\n",
       "    </tr>\n",
       "    <tr>\n",
       "      <th>8</th>\n",
       "      <td>Baumackerstrasse 35, 8050</td>\n",
       "    </tr>\n",
       "    <tr>\n",
       "      <th>9</th>\n",
       "      <td>Überlandstrasse 441, 8051</td>\n",
       "    </tr>\n",
       "    <tr>\n",
       "      <th>10</th>\n",
       "      <td>Binzmühlestrasse 102, 8050</td>\n",
       "    </tr>\n",
       "    <tr>\n",
       "      <th>11</th>\n",
       "      <td>Schärenmoosstrasse 77, 8052</td>\n",
       "    </tr>\n",
       "  </tbody>\n",
       "</table>\n",
       "</div>"
      ],
      "text/plain": [
       "                        address\n",
       "0   Stadelhoferstrasse 10, 8001\n",
       "1          Mythenquai 353, 8038\n",
       "2         Albisstrasse 81, 8038\n",
       "3    Witikonerstrasse 279, 8053\n",
       "4           Sihlstrasse 3, 8001\n",
       "5          Zollstrasse 58, 8005\n",
       "6      Badenerstrasse 565, 8048\n",
       "7         Hohlstrasse 473, 8048\n",
       "8     Baumackerstrasse 35, 8050\n",
       "9     Überlandstrasse 441, 8051\n",
       "10   Binzmühlestrasse 102, 8050\n",
       "11  Schärenmoosstrasse 77, 8052"
      ]
     },
     "execution_count": 15,
     "metadata": {},
     "output_type": "execute_result"
    }
   ],
   "source": [
    "df_Aldi_Address = pd.DataFrame()\n",
    "# Combine Address and Zip Code into a single column\n",
    "df_Aldi_Address[\"address\"] = df_Aldi_Locator[\"Address\"] + ', ' + df_Aldi_Locator[\"Zip_Code\"]\n",
    "df_Aldi_Address"
   ]
  },
  {
   "cell_type": "markdown",
   "id": "1e87ebee-9af2-4125-8918-be673dfe8806",
   "metadata": {},
   "source": [
    "### Getting store locations from Google Maps and mapping the location to Kreis name"
   ]
  },
  {
   "cell_type": "code",
   "execution_count": 16,
   "id": "080c6b31-1352-499a-90a2-f2243b5494fc",
   "metadata": {},
   "outputs": [],
   "source": [
    "from shapely.geometry import shape, GeometryCollection, Point"
   ]
  },
  {
   "cell_type": "code",
   "execution_count": 17,
   "id": "21a41eb2-7657-4ca0-b334-60b78e32c0c6",
   "metadata": {},
   "outputs": [],
   "source": [
    "# Function to get latitude and longitude from Google Maps API\n",
    "def get_lat_lng(api_key, query):\n",
    "    url = \"https://maps.googleapis.com/maps/api/place/textsearch/json?\"\n",
    "    req = requests.get(url + \"query=\" + query + \"&key=\" + api_key)\n",
    "    places_json = req.json()\n",
    "    my_result = places_json.get(\"results\", [])\n",
    "\n",
    "    if my_result:\n",
    "        location = my_result[0].get(\"geometry\", {}).get(\"location\", {})\n",
    "        lat, lng = location.get(\"lat\"), location.get(\"lng\")\n",
    "        return lat, lng\n",
    "    else:\n",
    "        return None, None"
   ]
  },
  {
   "cell_type": "code",
   "execution_count": 18,
   "id": "dd1553cd-7bff-40e1-bd11-762035c1ff41",
   "metadata": {},
   "outputs": [],
   "source": [
    "# Function to get kreis_name from GeoJSON data\n",
    "def get_kreis_name(point, geojson_data):\n",
    "    for feature in geojson_data[\"features\"]:\n",
    "        polygon = shape(feature[\"geometry\"])\n",
    "        if polygon.contains(point):\n",
    "            return feature[\"properties\"][\"bezeichnung\"]\n",
    "    return None"
   ]
  },
  {
   "cell_type": "code",
   "execution_count": 20,
   "id": "2935a3af-95bb-4fdf-9c73-99ac357b8b5c",
   "metadata": {},
   "outputs": [
    {
     "data": {
      "text/html": [
       "<div>\n",
       "<style scoped>\n",
       "    .dataframe tbody tr th:only-of-type {\n",
       "        vertical-align: middle;\n",
       "    }\n",
       "\n",
       "    .dataframe tbody tr th {\n",
       "        vertical-align: top;\n",
       "    }\n",
       "\n",
       "    .dataframe thead th {\n",
       "        text-align: right;\n",
       "    }\n",
       "</style>\n",
       "<table border=\"1\" class=\"dataframe\">\n",
       "  <thead>\n",
       "    <tr style=\"text-align: right;\">\n",
       "      <th></th>\n",
       "      <th>address</th>\n",
       "      <th>latitude</th>\n",
       "      <th>longitude</th>\n",
       "      <th>kreis_name</th>\n",
       "    </tr>\n",
       "  </thead>\n",
       "  <tbody>\n",
       "    <tr>\n",
       "      <th>0</th>\n",
       "      <td>Stadelhoferstrasse 10, 8001</td>\n",
       "      <td>47.366789</td>\n",
       "      <td>8.548001</td>\n",
       "      <td>Kreis 1</td>\n",
       "    </tr>\n",
       "    <tr>\n",
       "      <th>1</th>\n",
       "      <td>Mythenquai 353, 8038</td>\n",
       "      <td>47.345470</td>\n",
       "      <td>8.534889</td>\n",
       "      <td>Kreis 2</td>\n",
       "    </tr>\n",
       "    <tr>\n",
       "      <th>2</th>\n",
       "      <td>Albisstrasse 81, 8038</td>\n",
       "      <td>47.340868</td>\n",
       "      <td>8.530663</td>\n",
       "      <td>Kreis 2</td>\n",
       "    </tr>\n",
       "    <tr>\n",
       "      <th>3</th>\n",
       "      <td>Witikonerstrasse 279, 8053</td>\n",
       "      <td>47.358731</td>\n",
       "      <td>8.585599</td>\n",
       "      <td>Kreis 7</td>\n",
       "    </tr>\n",
       "    <tr>\n",
       "      <th>4</th>\n",
       "      <td>Sihlstrasse 3, 8001</td>\n",
       "      <td>47.373727</td>\n",
       "      <td>8.537653</td>\n",
       "      <td>Kreis 1</td>\n",
       "    </tr>\n",
       "    <tr>\n",
       "      <th>5</th>\n",
       "      <td>Zollstrasse 58, 8005</td>\n",
       "      <td>47.380852</td>\n",
       "      <td>8.533312</td>\n",
       "      <td>Kreis 5</td>\n",
       "    </tr>\n",
       "    <tr>\n",
       "      <th>6</th>\n",
       "      <td>Badenerstrasse 565, 8048</td>\n",
       "      <td>47.383793</td>\n",
       "      <td>8.497718</td>\n",
       "      <td>Kreis 9</td>\n",
       "    </tr>\n",
       "    <tr>\n",
       "      <th>7</th>\n",
       "      <td>Hohlstrasse 473, 8048</td>\n",
       "      <td>47.388231</td>\n",
       "      <td>8.496790</td>\n",
       "      <td>Kreis 9</td>\n",
       "    </tr>\n",
       "    <tr>\n",
       "      <th>8</th>\n",
       "      <td>Baumackerstrasse 35, 8050</td>\n",
       "      <td>47.408720</td>\n",
       "      <td>8.543906</td>\n",
       "      <td>Kreis 11</td>\n",
       "    </tr>\n",
       "    <tr>\n",
       "      <th>9</th>\n",
       "      <td>Überlandstrasse 441, 8051</td>\n",
       "      <td>47.405963</td>\n",
       "      <td>8.591885</td>\n",
       "      <td>Kreis 12</td>\n",
       "    </tr>\n",
       "    <tr>\n",
       "      <th>10</th>\n",
       "      <td>Binzmühlestrasse 102, 8050</td>\n",
       "      <td>47.413802</td>\n",
       "      <td>8.538820</td>\n",
       "      <td>Kreis 11</td>\n",
       "    </tr>\n",
       "    <tr>\n",
       "      <th>11</th>\n",
       "      <td>Schärenmoosstrasse 77, 8052</td>\n",
       "      <td>47.419496</td>\n",
       "      <td>8.556830</td>\n",
       "      <td>Kreis 11</td>\n",
       "    </tr>\n",
       "  </tbody>\n",
       "</table>\n",
       "</div>"
      ],
      "text/plain": [
       "                        address   latitude  longitude kreis_name\n",
       "0   Stadelhoferstrasse 10, 8001  47.366789   8.548001    Kreis 1\n",
       "1          Mythenquai 353, 8038  47.345470   8.534889    Kreis 2\n",
       "2         Albisstrasse 81, 8038  47.340868   8.530663    Kreis 2\n",
       "3    Witikonerstrasse 279, 8053  47.358731   8.585599    Kreis 7\n",
       "4           Sihlstrasse 3, 8001  47.373727   8.537653    Kreis 1\n",
       "5          Zollstrasse 58, 8005  47.380852   8.533312    Kreis 5\n",
       "6      Badenerstrasse 565, 8048  47.383793   8.497718    Kreis 9\n",
       "7         Hohlstrasse 473, 8048  47.388231   8.496790    Kreis 9\n",
       "8     Baumackerstrasse 35, 8050  47.408720   8.543906   Kreis 11\n",
       "9     Überlandstrasse 441, 8051  47.405963   8.591885   Kreis 12\n",
       "10   Binzmühlestrasse 102, 8050  47.413802   8.538820   Kreis 11\n",
       "11  Schärenmoosstrasse 77, 8052  47.419496   8.556830   Kreis 11"
      ]
     },
     "execution_count": 20,
     "metadata": {},
     "output_type": "execute_result"
    }
   ],
   "source": [
    "# Load GeoJSON data\n",
    "with open('data/stzh.adm_stadtkreise_a.json', 'r') as f:\n",
    "    geojson_data = json.load(f)\n",
    "\n",
    "# Create a DataFrame to store the results\n",
    "columns = [\"address\", \"latitude\", \"longitude\", \"kreis_name\"]\n",
    "aldi_df = pd.DataFrame(columns=columns)\n",
    "\n",
    "# Iterate through addresses in the DataFrame\n",
    "for index, row in df_Aldi_Address.iterrows():\n",
    "    address = row[\"address\"]\n",
    "    \n",
    "    # Get latitude and longitude from Google Maps API\n",
    "    lat, lng = get_lat_lng(api_key, address)\n",
    "    \n",
    "    # If coordinates are found, create a Point object\n",
    "    if lat is not None and lng is not None:\n",
    "        point = Point(lng, lat)\n",
    "        \n",
    "        # Get kreis_name from GeoJSON data\n",
    "        kreis_name = get_kreis_name(point, geojson_data)\n",
    "        \n",
    "        # Append results to DataFrame\n",
    "        aldi_df = pd.concat([aldi_df, pd.DataFrame([{\"address\": address, \"latitude\": lat, \"longitude\": lng, \"kreis_name\": kreis_name}])], ignore_index=True)\n",
    "\n",
    "# Display the final DataFrame\n",
    "aldi_df"
   ]
  },
  {
   "cell_type": "code",
   "execution_count": 21,
   "id": "bce9288d-675f-4193-b64d-26502a7165dc",
   "metadata": {},
   "outputs": [
    {
     "name": "stdout",
     "output_type": "stream",
     "text": [
      "<class 'pandas.core.frame.DataFrame'>\n",
      "RangeIndex: 12 entries, 0 to 11\n",
      "Data columns (total 4 columns):\n",
      " #   Column      Non-Null Count  Dtype  \n",
      "---  ------      --------------  -----  \n",
      " 0   address     12 non-null     object \n",
      " 1   latitude    12 non-null     float64\n",
      " 2   longitude   12 non-null     float64\n",
      " 3   kreis_name  12 non-null     object \n",
      "dtypes: float64(2), object(2)\n",
      "memory usage: 516.0+ bytes\n"
     ]
    }
   ],
   "source": [
    "aldi_df.info()"
   ]
  },
  {
   "cell_type": "code",
   "execution_count": 22,
   "id": "e057fa50-9e59-4744-98e4-a9e855af834a",
   "metadata": {},
   "outputs": [],
   "source": [
    "# Save DataFrame to CSV\n",
    "aldi_df.to_csv('aldi_data.csv', index=False)"
   ]
  }
 ],
 "metadata": {
  "kernelspec": {
   "display_name": "Python 3 (ipykernel)",
   "language": "python",
   "name": "python3"
  },
  "language_info": {
   "codemirror_mode": {
    "name": "ipython",
    "version": 3
   },
   "file_extension": ".py",
   "mimetype": "text/x-python",
   "name": "python",
   "nbconvert_exporter": "python",
   "pygments_lexer": "ipython3",
   "version": "3.12.0"
  }
 },
 "nbformat": 4,
 "nbformat_minor": 5
}
