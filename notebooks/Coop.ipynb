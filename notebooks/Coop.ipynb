{
 "cells": [
  {
   "cell_type": "code",
   "execution_count": 30,
   "id": "a45d2115-6a50-41e5-bc98-ca80e0940c90",
   "metadata": {},
   "outputs": [],
   "source": [
    "import json\n",
    "import requests\n",
    "import yaml\n",
    "import pandas as pd\n",
    "import warnings\n",
    "from bs4 import BeautifulSoup\n",
    "import re\n",
    "import numpy as np\n",
    "from shapely.geometry import Point\n",
    "warnings.simplefilter(action='ignore', category=FutureWarning)"
   ]
  },
  {
   "cell_type": "code",
   "execution_count": 5,
   "id": "753c19f7-fdbc-40d3-a546-d8765928d429",
   "metadata": {},
   "outputs": [],
   "source": [
    "#key_dict = {'key' : ''}"
   ]
  },
  {
   "cell_type": "code",
   "execution_count": 6,
   "id": "a4644796-c3e4-4b0e-a6ee-701cbca10849",
   "metadata": {},
   "outputs": [],
   "source": [
    "# dump the key into yaml \n",
    "with open('credentials.yml','w') as output:\n",
    "    yaml.dump(key_dict, output)\n",
    "    \n",
    "# get the key from .yaml file\n",
    "key_dict = yaml.load(open('credentials.yml'), Loader=yaml.FullLoader)  "
   ]
  },
  {
   "cell_type": "code",
   "execution_count": 23,
   "id": "7e3a652c-cb77-4a8d-b93c-282ae5c862de",
   "metadata": {},
   "outputs": [],
   "source": [
    "key_dict = yaml.load(open(\"credentials.yml\"), Loader=yaml.FullLoader)\n",
    "gmaps_key = key_dict[\"key\"]\n",
    "api_key = gmaps_key"
   ]
  },
  {
   "cell_type": "markdown",
   "id": "5b49ea45-596d-4496-8882-74d029d6d548",
   "metadata": {},
   "source": [
    "### Scraping Coop locations in Zürich"
   ]
  },
  {
   "cell_type": "code",
   "execution_count": 9,
   "id": "167cdad3-e6f2-4392-a9cd-1b4b75747be7",
   "metadata": {},
   "outputs": [
    {
     "name": "stdout",
     "output_type": "stream",
     "text": [
      "200\n"
     ]
    },
    {
     "data": {
      "text/plain": [
       "bs4.BeautifulSoup"
      ]
     },
     "execution_count": 9,
     "metadata": {},
     "output_type": "execute_result"
    }
   ],
   "source": [
    "page_Coop = requests.get(\"https://www.profital.ch/de/flr/72139-coop-filialen/2699\")\n",
    "print(page_Coop.status_code) ## prints 200 as status code\n",
    "#print(page.content[:3000]) ## prints the entire webpage content\n",
    "soup_Coop = BeautifulSoup(page_Coop.content, \"html.parser\")\n",
    "type(soup_Coop)"
   ]
  },
  {
   "cell_type": "code",
   "execution_count": 10,
   "id": "55d2b90b-96bc-4104-b02c-4576f01b3459",
   "metadata": {},
   "outputs": [],
   "source": [
    "soup_Coop.findAll('address');"
   ]
  },
  {
   "cell_type": "code",
   "execution_count": 11,
   "id": "fdb4a0ad-c38b-4ee7-836f-37a80249cb8f",
   "metadata": {},
   "outputs": [],
   "source": [
    "Loc_Coop=[]\n",
    "for pg in range(2,6):\n",
    "    page_Coop_2 = requests.get(f\"https://www.profital.ch/de/flr/72139-coop-filialen/2699?page={pg}\")\n",
    "    soup_Coop_2 = BeautifulSoup(page_Coop_2.content,\"html.parser\")\n",
    "    soup_Coop_2.findAll('address')\n",
    "    Loc_Coop.append(soup_Coop_2.findAll('address'))"
   ]
  },
  {
   "cell_type": "code",
   "execution_count": 12,
   "id": "f87cfec4-42d0-4bf1-85ee-ce8c44515ce9",
   "metadata": {},
   "outputs": [
    {
     "data": {
      "text/plain": [
       "5"
      ]
     },
     "execution_count": 12,
     "metadata": {},
     "output_type": "execute_result"
    }
   ],
   "source": [
    "Loc_Coop.append(soup_Coop.findAll('address'))\n",
    "page_num_Coop=len(Loc_Coop)\n",
    "page_num_Coop"
   ]
  },
  {
   "cell_type": "code",
   "execution_count": 13,
   "id": "1a7ffa25-04b9-44e9-9682-05f5488df6ff",
   "metadata": {},
   "outputs": [],
   "source": [
    "Address_Coop=[]\n",
    "Zip_Coop=[]\n",
    "for i in range(0,page_num_Coop):\n",
    "    for j in range(0,len(Loc_Coop[i])):\n",
    "        Address_Coop.append(Loc_Coop[i][j].contents[0].strip())\n",
    "        Zip_Coop.append(Loc_Coop[i][j].contents[2].strip().split()[0])"
   ]
  },
  {
   "cell_type": "code",
   "execution_count": 16,
   "id": "55583a1b-e039-4b7e-a771-43241aa8ca6c",
   "metadata": {},
   "outputs": [
    {
     "data": {
      "text/html": [
       "<div>\n",
       "<style scoped>\n",
       "    .dataframe tbody tr th:only-of-type {\n",
       "        vertical-align: middle;\n",
       "    }\n",
       "\n",
       "    .dataframe tbody tr th {\n",
       "        vertical-align: top;\n",
       "    }\n",
       "\n",
       "    .dataframe thead th {\n",
       "        text-align: right;\n",
       "    }\n",
       "</style>\n",
       "<table border=\"1\" class=\"dataframe\">\n",
       "  <thead>\n",
       "    <tr style=\"text-align: right;\">\n",
       "      <th></th>\n",
       "      <th>Address</th>\n",
       "      <th>Zip_Code</th>\n",
       "    </tr>\n",
       "  </thead>\n",
       "  <tbody>\n",
       "    <tr>\n",
       "      <th>0</th>\n",
       "      <td>Bahnhofbrücke 1</td>\n",
       "      <td>8001</td>\n",
       "    </tr>\n",
       "    <tr>\n",
       "      <th>1</th>\n",
       "      <td>Uetlibergstrasse 20</td>\n",
       "      <td>8045</td>\n",
       "    </tr>\n",
       "    <tr>\n",
       "      <th>2</th>\n",
       "      <td>Badenerstrasse 15</td>\n",
       "      <td>8004</td>\n",
       "    </tr>\n",
       "    <tr>\n",
       "      <th>3</th>\n",
       "      <td>Halle Löwenstrasse</td>\n",
       "      <td>8021</td>\n",
       "    </tr>\n",
       "    <tr>\n",
       "      <th>4</th>\n",
       "      <td>Europaallee 5</td>\n",
       "      <td>8001</td>\n",
       "    </tr>\n",
       "  </tbody>\n",
       "</table>\n",
       "</div>"
      ],
      "text/plain": [
       "               Address Zip_Code\n",
       "0      Bahnhofbrücke 1     8001\n",
       "1  Uetlibergstrasse 20     8045\n",
       "2    Badenerstrasse 15     8004\n",
       "3   Halle Löwenstrasse     8021\n",
       "4        Europaallee 5     8001"
      ]
     },
     "execution_count": 16,
     "metadata": {},
     "output_type": "execute_result"
    }
   ],
   "source": [
    "df_Coop_Locator = pd.DataFrame(list(zip(Address_Coop,Zip_Coop)), columns=[\"Address\", \"Zip_Code\"])\n",
    "df_Coop_Locator.head()"
   ]
  },
  {
   "cell_type": "code",
   "execution_count": 21,
   "id": "de1e5e51-8515-4f74-b644-e77ed9df8ff9",
   "metadata": {},
   "outputs": [
    {
     "data": {
      "text/html": [
       "<div>\n",
       "<style scoped>\n",
       "    .dataframe tbody tr th:only-of-type {\n",
       "        vertical-align: middle;\n",
       "    }\n",
       "\n",
       "    .dataframe tbody tr th {\n",
       "        vertical-align: top;\n",
       "    }\n",
       "\n",
       "    .dataframe thead th {\n",
       "        text-align: right;\n",
       "    }\n",
       "</style>\n",
       "<table border=\"1\" class=\"dataframe\">\n",
       "  <thead>\n",
       "    <tr style=\"text-align: right;\">\n",
       "      <th></th>\n",
       "      <th>address</th>\n",
       "    </tr>\n",
       "  </thead>\n",
       "  <tbody>\n",
       "    <tr>\n",
       "      <th>0</th>\n",
       "      <td>Bahnhofbrücke 1, 8001</td>\n",
       "    </tr>\n",
       "    <tr>\n",
       "      <th>1</th>\n",
       "      <td>Uetlibergstrasse 20, 8045</td>\n",
       "    </tr>\n",
       "    <tr>\n",
       "      <th>2</th>\n",
       "      <td>Badenerstrasse 15, 8004</td>\n",
       "    </tr>\n",
       "    <tr>\n",
       "      <th>3</th>\n",
       "      <td>Halle Löwenstrasse, 8021</td>\n",
       "    </tr>\n",
       "    <tr>\n",
       "      <th>4</th>\n",
       "      <td>Europaallee 5, 8001</td>\n",
       "    </tr>\n",
       "    <tr>\n",
       "      <th>...</th>\n",
       "      <td>...</td>\n",
       "    </tr>\n",
       "    <tr>\n",
       "      <th>57</th>\n",
       "      <td>Bärengasse 16, 8001</td>\n",
       "    </tr>\n",
       "    <tr>\n",
       "      <th>58</th>\n",
       "      <td>Alte Kalchbühlstrasse 15, 8038</td>\n",
       "    </tr>\n",
       "    <tr>\n",
       "      <th>59</th>\n",
       "      <td>Kalanderplatz 1, 8045</td>\n",
       "    </tr>\n",
       "    <tr>\n",
       "      <th>60</th>\n",
       "      <td>Bahnhofstrasse 57, 8001</td>\n",
       "    </tr>\n",
       "    <tr>\n",
       "      <th>61</th>\n",
       "      <td>Zürichbergstrasse 75, 8044</td>\n",
       "    </tr>\n",
       "  </tbody>\n",
       "</table>\n",
       "<p>62 rows × 1 columns</p>\n",
       "</div>"
      ],
      "text/plain": [
       "                           address\n",
       "0            Bahnhofbrücke 1, 8001\n",
       "1        Uetlibergstrasse 20, 8045\n",
       "2          Badenerstrasse 15, 8004\n",
       "3         Halle Löwenstrasse, 8021\n",
       "4              Europaallee 5, 8001\n",
       "..                             ...\n",
       "57             Bärengasse 16, 8001\n",
       "58  Alte Kalchbühlstrasse 15, 8038\n",
       "59           Kalanderplatz 1, 8045\n",
       "60         Bahnhofstrasse 57, 8001\n",
       "61      Zürichbergstrasse 75, 8044\n",
       "\n",
       "[62 rows x 1 columns]"
      ]
     },
     "execution_count": 21,
     "metadata": {},
     "output_type": "execute_result"
    }
   ],
   "source": [
    "df_Coop_Address = pd.DataFrame()\n",
    "# Combine Address and Zip Code into a single column\n",
    "df_Coop_Address[\"address\"] = df_Coop_Locator[\"Address\"] + ', ' + df_Coop_Locator[\"Zip_Code\"]\n",
    "df_Coop_Address"
   ]
  },
  {
   "cell_type": "markdown",
   "id": "1e87ebee-9af2-4125-8918-be673dfe8806",
   "metadata": {},
   "source": [
    "### Getting store locations from Google Maps and mapping the location to Kreis name"
   ]
  },
  {
   "cell_type": "code",
   "execution_count": 32,
   "id": "080c6b31-1352-499a-90a2-f2243b5494fc",
   "metadata": {},
   "outputs": [],
   "source": [
    "from shapely.geometry import shape, GeometryCollection, Point"
   ]
  },
  {
   "cell_type": "code",
   "execution_count": 33,
   "id": "21a41eb2-7657-4ca0-b334-60b78e32c0c6",
   "metadata": {},
   "outputs": [],
   "source": [
    "# Function to get latitude and longitude from Google Maps API\n",
    "def get_lat_lng(api_key, query):\n",
    "    url = \"https://maps.googleapis.com/maps/api/place/textsearch/json?\"\n",
    "    req = requests.get(url + \"query=\" + query + \"&key=\" + api_key)\n",
    "    places_json = req.json()\n",
    "    my_result = places_json.get(\"results\", [])\n",
    "\n",
    "    if my_result:\n",
    "        location = my_result[0].get(\"geometry\", {}).get(\"location\", {})\n",
    "        lat, lng = location.get(\"lat\"), location.get(\"lng\")\n",
    "        return lat, lng\n",
    "    else:\n",
    "        return None, None"
   ]
  },
  {
   "cell_type": "code",
   "execution_count": 34,
   "id": "dd1553cd-7bff-40e1-bd11-762035c1ff41",
   "metadata": {},
   "outputs": [],
   "source": [
    "# Function to get kreis_name from GeoJSON data\n",
    "def get_kreis_name(point, geojson_data):\n",
    "    for feature in geojson_data[\"features\"]:\n",
    "        polygon = shape(feature[\"geometry\"])\n",
    "        if polygon.contains(point):\n",
    "            return feature[\"properties\"][\"bezeichnung\"]\n",
    "    return None"
   ]
  },
  {
   "cell_type": "code",
   "execution_count": 35,
   "id": "2935a3af-95bb-4fdf-9c73-99ac357b8b5c",
   "metadata": {},
   "outputs": [
    {
     "data": {
      "text/html": [
       "<div>\n",
       "<style scoped>\n",
       "    .dataframe tbody tr th:only-of-type {\n",
       "        vertical-align: middle;\n",
       "    }\n",
       "\n",
       "    .dataframe tbody tr th {\n",
       "        vertical-align: top;\n",
       "    }\n",
       "\n",
       "    .dataframe thead th {\n",
       "        text-align: right;\n",
       "    }\n",
       "</style>\n",
       "<table border=\"1\" class=\"dataframe\">\n",
       "  <thead>\n",
       "    <tr style=\"text-align: right;\">\n",
       "      <th></th>\n",
       "      <th>address</th>\n",
       "      <th>latitude</th>\n",
       "      <th>longitude</th>\n",
       "      <th>kreis_name</th>\n",
       "    </tr>\n",
       "  </thead>\n",
       "  <tbody>\n",
       "    <tr>\n",
       "      <th>0</th>\n",
       "      <td>Bahnhofbrücke 1, 8001</td>\n",
       "      <td>47.376458</td>\n",
       "      <td>8.542357</td>\n",
       "      <td>Kreis 1</td>\n",
       "    </tr>\n",
       "    <tr>\n",
       "      <th>1</th>\n",
       "      <td>Uetlibergstrasse 20, 8045</td>\n",
       "      <td>47.364747</td>\n",
       "      <td>8.520881</td>\n",
       "      <td>Kreis 3</td>\n",
       "    </tr>\n",
       "    <tr>\n",
       "      <th>2</th>\n",
       "      <td>Badenerstrasse 15, 8004</td>\n",
       "      <td>47.373385</td>\n",
       "      <td>8.530586</td>\n",
       "      <td>Kreis 4</td>\n",
       "    </tr>\n",
       "    <tr>\n",
       "      <th>3</th>\n",
       "      <td>Halle Löwenstrasse, 8021</td>\n",
       "      <td>47.378042</td>\n",
       "      <td>8.539067</td>\n",
       "      <td>Kreis 1</td>\n",
       "    </tr>\n",
       "    <tr>\n",
       "      <th>4</th>\n",
       "      <td>Europaallee 5, 8001</td>\n",
       "      <td>47.378029</td>\n",
       "      <td>8.534917</td>\n",
       "      <td>Kreis 4</td>\n",
       "    </tr>\n",
       "  </tbody>\n",
       "</table>\n",
       "</div>"
      ],
      "text/plain": [
       "                     address   latitude  longitude kreis_name\n",
       "0      Bahnhofbrücke 1, 8001  47.376458   8.542357    Kreis 1\n",
       "1  Uetlibergstrasse 20, 8045  47.364747   8.520881    Kreis 3\n",
       "2    Badenerstrasse 15, 8004  47.373385   8.530586    Kreis 4\n",
       "3   Halle Löwenstrasse, 8021  47.378042   8.539067    Kreis 1\n",
       "4        Europaallee 5, 8001  47.378029   8.534917    Kreis 4"
      ]
     },
     "execution_count": 35,
     "metadata": {},
     "output_type": "execute_result"
    }
   ],
   "source": [
    "# Load GeoJSON data\n",
    "with open('data/stzh.adm_stadtkreise_a.json', 'r') as f:\n",
    "    geojson_data = json.load(f)\n",
    "\n",
    "# Create a DataFrame to store the results\n",
    "columns = [\"address\", \"latitude\", \"longitude\", \"kreis_name\"]\n",
    "coop_df = pd.DataFrame(columns=columns)\n",
    "\n",
    "# Iterate through addresses in the DataFrame\n",
    "for index, row in df_Coop_Address.iterrows():\n",
    "    address = row[\"address\"]\n",
    "    \n",
    "    # Get latitude and longitude from Google Maps API\n",
    "    lat, lng = get_lat_lng(api_key, address)\n",
    "    \n",
    "    # If coordinates are found, create a Point object\n",
    "    if lat is not None and lng is not None:\n",
    "        point = Point(lng, lat)\n",
    "        \n",
    "        # Get kreis_name from GeoJSON data\n",
    "        kreis_name = get_kreis_name(point, geojson_data)\n",
    "        \n",
    "        # Append results to DataFrame\n",
    "        coop_df = pd.concat([coop_df, pd.DataFrame([{\"address\": address, \"latitude\": lat, \"longitude\": lng, \"kreis_name\": kreis_name}])], ignore_index=True)\n",
    "\n",
    "# Display the final DataFrame\n",
    "coop_df.head()"
   ]
  },
  {
   "cell_type": "code",
   "execution_count": 36,
   "id": "bce9288d-675f-4193-b64d-26502a7165dc",
   "metadata": {},
   "outputs": [
    {
     "name": "stdout",
     "output_type": "stream",
     "text": [
      "<class 'pandas.core.frame.DataFrame'>\n",
      "RangeIndex: 62 entries, 0 to 61\n",
      "Data columns (total 4 columns):\n",
      " #   Column      Non-Null Count  Dtype  \n",
      "---  ------      --------------  -----  \n",
      " 0   address     62 non-null     object \n",
      " 1   latitude    62 non-null     float64\n",
      " 2   longitude   62 non-null     float64\n",
      " 3   kreis_name  62 non-null     object \n",
      "dtypes: float64(2), object(2)\n",
      "memory usage: 2.1+ KB\n"
     ]
    }
   ],
   "source": [
    "coop_df.info()"
   ]
  },
  {
   "cell_type": "code",
   "execution_count": 37,
   "id": "e057fa50-9e59-4744-98e4-a9e855af834a",
   "metadata": {},
   "outputs": [],
   "source": [
    "# Save DataFrame to CSV\n",
    "coop_df.to_csv('coop_data.csv', index=False)"
   ]
  }
 ],
 "metadata": {
  "kernelspec": {
   "display_name": "Python 3 (ipykernel)",
   "language": "python",
   "name": "python3"
  },
  "language_info": {
   "codemirror_mode": {
    "name": "ipython",
    "version": 3
   },
   "file_extension": ".py",
   "mimetype": "text/x-python",
   "name": "python",
   "nbconvert_exporter": "python",
   "pygments_lexer": "ipython3",
   "version": "3.12.0"
  }
 },
 "nbformat": 4,
 "nbformat_minor": 5
}
