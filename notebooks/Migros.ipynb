{
 "cells": [
  {
   "cell_type": "code",
   "execution_count": 2,
   "id": "a45d2115-6a50-41e5-bc98-ca80e0940c90",
   "metadata": {},
   "outputs": [],
   "source": [
    "import json\n",
    "import requests\n",
    "import yaml\n",
    "import pandas as pd\n",
    "import warnings\n",
    "from bs4 import BeautifulSoup\n",
    "import re\n",
    "import numpy as np\n",
    "from shapely.geometry import Point\n",
    "warnings.simplefilter(action='ignore', category=FutureWarning)"
   ]
  },
  {
   "cell_type": "code",
   "execution_count": 3,
   "id": "753c19f7-fdbc-40d3-a546-d8765928d429",
   "metadata": {},
   "outputs": [],
   "source": [
    "#key_dict = {'key' : ''}"
   ]
  },
  {
   "cell_type": "code",
   "execution_count": 4,
   "id": "a4644796-c3e4-4b0e-a6ee-701cbca10849",
   "metadata": {},
   "outputs": [],
   "source": [
    "# dump the key into yaml \n",
    "with open('credentials.yml','w') as output:\n",
    "    yaml.dump(key_dict, output)\n",
    "    \n",
    "# get the key from .yaml file\n",
    "key_dict = yaml.load(open('credentials.yml'), Loader=yaml.FullLoader)  "
   ]
  },
  {
   "cell_type": "code",
   "execution_count": 5,
   "id": "7e3a652c-cb77-4a8d-b93c-282ae5c862de",
   "metadata": {},
   "outputs": [],
   "source": [
    "key_dict = yaml.load(open(\"credentials.yml\"), Loader=yaml.FullLoader)\n",
    "gmaps_key = key_dict[\"key\"]\n",
    "api_key = gmaps_key"
   ]
  },
  {
   "cell_type": "markdown",
   "id": "5b49ea45-596d-4496-8882-74d029d6d548",
   "metadata": {},
   "source": [
    "### Scraping Coop locations in Zürich"
   ]
  },
  {
   "cell_type": "code",
   "execution_count": 6,
   "id": "167cdad3-e6f2-4392-a9cd-1b4b75747be7",
   "metadata": {},
   "outputs": [
    {
     "name": "stdout",
     "output_type": "stream",
     "text": [
      "200\n"
     ]
    },
    {
     "data": {
      "text/plain": [
       "bs4.BeautifulSoup"
      ]
     },
     "execution_count": 6,
     "metadata": {},
     "output_type": "execute_result"
    }
   ],
   "source": [
    "page = requests.get(\"https://www.profital.ch/de/flr/81450-migros-filialen/2699\")\n",
    "print(page.status_code) ## prints 200 as status code\n",
    "#print(page.content[:3000]) ## prints the entire webpage content\n",
    "soup_1 = BeautifulSoup(page.content, \"html.parser\")\n",
    "type(soup_1)"
   ]
  },
  {
   "cell_type": "code",
   "execution_count": 7,
   "id": "55d2b90b-96bc-4104-b02c-4576f01b3459",
   "metadata": {},
   "outputs": [],
   "source": [
    "soup_1.findAll('address');"
   ]
  },
  {
   "cell_type": "code",
   "execution_count": 8,
   "id": "fdb4a0ad-c38b-4ee7-836f-37a80249cb8f",
   "metadata": {},
   "outputs": [],
   "source": [
    "Loc=[]\n",
    "for pg in range(2,4):\n",
    "    page_2 = requests.get(f\"https://www.profital.ch/de/flr/81450-migros-filialen/2699?page={pg}\")\n",
    "    soup_2 = BeautifulSoup(page_2.content,\"html.parser\")\n",
    "    soup_2.findAll('address')\n",
    "    Loc.append(soup_2.findAll('address'))"
   ]
  },
  {
   "cell_type": "code",
   "execution_count": 9,
   "id": "f87cfec4-42d0-4bf1-85ee-ce8c44515ce9",
   "metadata": {},
   "outputs": [],
   "source": [
    "Loc.append(soup_1.findAll('address'))\n",
    "page_num=len(Loc)"
   ]
  },
  {
   "cell_type": "code",
   "execution_count": 10,
   "id": "1a7ffa25-04b9-44e9-9682-05f5488df6ff",
   "metadata": {},
   "outputs": [
    {
     "data": {
      "text/plain": [
       "33"
      ]
     },
     "execution_count": 10,
     "metadata": {},
     "output_type": "execute_result"
    }
   ],
   "source": [
    "Address=[]\n",
    "Zip=[]\n",
    "for i in range(0,page_num):\n",
    "    for j in range(0,len(Loc[i])):\n",
    "        Address.append(Loc[i][j].contents[0].strip())\n",
    "        Zip.append(Loc[i][j].contents[2].strip().split()[0])\n",
    "len(Address)"
   ]
  },
  {
   "cell_type": "code",
   "execution_count": null,
   "id": "55583a1b-e039-4b7e-a771-43241aa8ca6c",
   "metadata": {},
   "outputs": [],
   "source": [
    "df_Migros_Locator = pd.DataFrame(list(zip(Address,Zip)), columns=[\"Address\", \"Zip_Code\"])\n",
    "df_Migros_Locator"
   ]
  },
  {
   "cell_type": "code",
   "execution_count": 14,
   "id": "de1e5e51-8515-4f74-b644-e77ed9df8ff9",
   "metadata": {},
   "outputs": [
    {
     "data": {
      "text/html": [
       "<div>\n",
       "<style scoped>\n",
       "    .dataframe tbody tr th:only-of-type {\n",
       "        vertical-align: middle;\n",
       "    }\n",
       "\n",
       "    .dataframe tbody tr th {\n",
       "        vertical-align: top;\n",
       "    }\n",
       "\n",
       "    .dataframe thead th {\n",
       "        text-align: right;\n",
       "    }\n",
       "</style>\n",
       "<table border=\"1\" class=\"dataframe\">\n",
       "  <thead>\n",
       "    <tr style=\"text-align: right;\">\n",
       "      <th></th>\n",
       "      <th>address</th>\n",
       "    </tr>\n",
       "  </thead>\n",
       "  <tbody>\n",
       "    <tr>\n",
       "      <th>0</th>\n",
       "      <td>Winterthurerstrasse 2 - 4, 8006</td>\n",
       "    </tr>\n",
       "    <tr>\n",
       "      <th>1</th>\n",
       "      <td>Falkenstrasse 19 - 21, 8008</td>\n",
       "    </tr>\n",
       "    <tr>\n",
       "      <th>2</th>\n",
       "      <td>Giesshübelstrasse 65, 8045</td>\n",
       "    </tr>\n",
       "    <tr>\n",
       "      <th>3</th>\n",
       "      <td>Toblerstrasse 73, 8044</td>\n",
       "    </tr>\n",
       "    <tr>\n",
       "      <th>4</th>\n",
       "      <td>Kreuzplatz 20, 8008</td>\n",
       "    </tr>\n",
       "  </tbody>\n",
       "</table>\n",
       "</div>"
      ],
      "text/plain": [
       "                           address\n",
       "0  Winterthurerstrasse 2 - 4, 8006\n",
       "1      Falkenstrasse 19 - 21, 8008\n",
       "2       Giesshübelstrasse 65, 8045\n",
       "3           Toblerstrasse 73, 8044\n",
       "4              Kreuzplatz 20, 8008"
      ]
     },
     "execution_count": 14,
     "metadata": {},
     "output_type": "execute_result"
    }
   ],
   "source": [
    "df_Migors_Address = pd.DataFrame()\n",
    "# Combine Address and Zip Code into a single column\n",
    "df_Migors_Address[\"address\"] = df_Migros_Locator[\"Address\"] + ', ' + df_Migros_Locator[\"Zip_Code\"]\n",
    "df_Migors_Address.head()"
   ]
  },
  {
   "cell_type": "markdown",
   "id": "1e87ebee-9af2-4125-8918-be673dfe8806",
   "metadata": {},
   "source": [
    "### Getting store locations from Google Maps and mapping the location to Kreis name"
   ]
  },
  {
   "cell_type": "code",
   "execution_count": 16,
   "id": "080c6b31-1352-499a-90a2-f2243b5494fc",
   "metadata": {},
   "outputs": [],
   "source": [
    "from shapely.geometry import shape, GeometryCollection, Point"
   ]
  },
  {
   "cell_type": "code",
   "execution_count": 17,
   "id": "21a41eb2-7657-4ca0-b334-60b78e32c0c6",
   "metadata": {},
   "outputs": [],
   "source": [
    "# Function to get latitude and longitude from Google Maps API\n",
    "def get_lat_lng(api_key, query):\n",
    "    url = \"https://maps.googleapis.com/maps/api/place/textsearch/json?\"\n",
    "    req = requests.get(url + \"query=\" + query + \"&key=\" + api_key)\n",
    "    places_json = req.json()\n",
    "    my_result = places_json.get(\"results\", [])\n",
    "\n",
    "    if my_result:\n",
    "        location = my_result[0].get(\"geometry\", {}).get(\"location\", {})\n",
    "        lat, lng = location.get(\"lat\"), location.get(\"lng\")\n",
    "        return lat, lng\n",
    "    else:\n",
    "        return None, None"
   ]
  },
  {
   "cell_type": "code",
   "execution_count": 18,
   "id": "dd1553cd-7bff-40e1-bd11-762035c1ff41",
   "metadata": {},
   "outputs": [],
   "source": [
    "# Function to get kreis_name from GeoJSON data\n",
    "def get_kreis_name(point, geojson_data):\n",
    "    for feature in geojson_data[\"features\"]:\n",
    "        polygon = shape(feature[\"geometry\"])\n",
    "        if polygon.contains(point):\n",
    "            return feature[\"properties\"][\"bezeichnung\"]\n",
    "    return None"
   ]
  },
  {
   "cell_type": "code",
   "execution_count": 19,
   "id": "2935a3af-95bb-4fdf-9c73-99ac357b8b5c",
   "metadata": {},
   "outputs": [
    {
     "data": {
      "text/html": [
       "<div>\n",
       "<style scoped>\n",
       "    .dataframe tbody tr th:only-of-type {\n",
       "        vertical-align: middle;\n",
       "    }\n",
       "\n",
       "    .dataframe tbody tr th {\n",
       "        vertical-align: top;\n",
       "    }\n",
       "\n",
       "    .dataframe thead th {\n",
       "        text-align: right;\n",
       "    }\n",
       "</style>\n",
       "<table border=\"1\" class=\"dataframe\">\n",
       "  <thead>\n",
       "    <tr style=\"text-align: right;\">\n",
       "      <th></th>\n",
       "      <th>address</th>\n",
       "      <th>latitude</th>\n",
       "      <th>longitude</th>\n",
       "      <th>kreis_name</th>\n",
       "    </tr>\n",
       "  </thead>\n",
       "  <tbody>\n",
       "    <tr>\n",
       "      <th>0</th>\n",
       "      <td>Winterthurerstrasse 2 - 4, 8006</td>\n",
       "      <td>47.386080</td>\n",
       "      <td>8.548706</td>\n",
       "      <td>Kreis 6</td>\n",
       "    </tr>\n",
       "    <tr>\n",
       "      <th>1</th>\n",
       "      <td>Falkenstrasse 19 - 21, 8008</td>\n",
       "      <td>47.365452</td>\n",
       "      <td>8.547869</td>\n",
       "      <td>Kreis 1</td>\n",
       "    </tr>\n",
       "    <tr>\n",
       "      <th>2</th>\n",
       "      <td>Giesshübelstrasse 65, 8045</td>\n",
       "      <td>47.358264</td>\n",
       "      <td>8.517796</td>\n",
       "      <td>Kreis 3</td>\n",
       "    </tr>\n",
       "    <tr>\n",
       "      <th>3</th>\n",
       "      <td>Toblerstrasse 73, 8044</td>\n",
       "      <td>47.379402</td>\n",
       "      <td>8.559434</td>\n",
       "      <td>Kreis 7</td>\n",
       "    </tr>\n",
       "    <tr>\n",
       "      <th>4</th>\n",
       "      <td>Kreuzplatz 20, 8008</td>\n",
       "      <td>47.364816</td>\n",
       "      <td>8.554096</td>\n",
       "      <td>Kreis 7</td>\n",
       "    </tr>\n",
       "  </tbody>\n",
       "</table>\n",
       "</div>"
      ],
      "text/plain": [
       "                           address   latitude  longitude kreis_name\n",
       "0  Winterthurerstrasse 2 - 4, 8006  47.386080   8.548706    Kreis 6\n",
       "1      Falkenstrasse 19 - 21, 8008  47.365452   8.547869    Kreis 1\n",
       "2       Giesshübelstrasse 65, 8045  47.358264   8.517796    Kreis 3\n",
       "3           Toblerstrasse 73, 8044  47.379402   8.559434    Kreis 7\n",
       "4              Kreuzplatz 20, 8008  47.364816   8.554096    Kreis 7"
      ]
     },
     "execution_count": 19,
     "metadata": {},
     "output_type": "execute_result"
    }
   ],
   "source": [
    "# Load GeoJSON data\n",
    "with open('data/stzh.adm_stadtkreise_a.json', 'r') as f:\n",
    "    geojson_data = json.load(f)\n",
    "\n",
    "# Create a DataFrame to store the results\n",
    "columns = [\"address\", \"latitude\", \"longitude\", \"kreis_name\"]\n",
    "migros_df = pd.DataFrame(columns=columns)\n",
    "\n",
    "# Iterate through addresses in the DataFrame\n",
    "for index, row in df_Migors_Address.iterrows():\n",
    "    address = row[\"address\"]\n",
    "    \n",
    "    # Get latitude and longitude from Google Maps API\n",
    "    lat, lng = get_lat_lng(api_key, address)\n",
    "    \n",
    "    # If coordinates are found, create a Point object\n",
    "    if lat is not None and lng is not None:\n",
    "        point = Point(lng, lat)\n",
    "        \n",
    "        # Get kreis_name from GeoJSON data\n",
    "        kreis_name = get_kreis_name(point, geojson_data)\n",
    "        \n",
    "        # Append results to DataFrame\n",
    "        migros_df = pd.concat([migros_df, pd.DataFrame([{\"address\": address, \"latitude\": lat, \"longitude\": lng, \"kreis_name\": kreis_name}])], ignore_index=True)\n",
    "\n",
    "# Display the final DataFrame\n",
    "migros_df.head()"
   ]
  },
  {
   "cell_type": "code",
   "execution_count": 20,
   "id": "bce9288d-675f-4193-b64d-26502a7165dc",
   "metadata": {},
   "outputs": [
    {
     "name": "stdout",
     "output_type": "stream",
     "text": [
      "<class 'pandas.core.frame.DataFrame'>\n",
      "RangeIndex: 33 entries, 0 to 32\n",
      "Data columns (total 4 columns):\n",
      " #   Column      Non-Null Count  Dtype  \n",
      "---  ------      --------------  -----  \n",
      " 0   address     33 non-null     object \n",
      " 1   latitude    33 non-null     float64\n",
      " 2   longitude   33 non-null     float64\n",
      " 3   kreis_name  33 non-null     object \n",
      "dtypes: float64(2), object(2)\n",
      "memory usage: 1.2+ KB\n"
     ]
    }
   ],
   "source": [
    "migros_df.info()"
   ]
  },
  {
   "cell_type": "code",
   "execution_count": 21,
   "id": "e057fa50-9e59-4744-98e4-a9e855af834a",
   "metadata": {},
   "outputs": [],
   "source": [
    "# Save DataFrame to CSV\n",
    "migros_df.to_csv('migros_data.csv', index=False)"
   ]
  }
 ],
 "metadata": {
  "kernelspec": {
   "display_name": "Python 3 (ipykernel)",
   "language": "python",
   "name": "python3"
  },
  "language_info": {
   "codemirror_mode": {
    "name": "ipython",
    "version": 3
   },
   "file_extension": ".py",
   "mimetype": "text/x-python",
   "name": "python",
   "nbconvert_exporter": "python",
   "pygments_lexer": "ipython3",
   "version": "3.12.0"
  }
 },
 "nbformat": 4,
 "nbformat_minor": 5
}
